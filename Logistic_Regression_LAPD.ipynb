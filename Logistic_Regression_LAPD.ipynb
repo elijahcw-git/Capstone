{
  "nbformat": 4,
  "nbformat_minor": 0,
  "metadata": {
    "colab": {
      "provenance": [],
      "gpuType": "A100",
      "machine_shape": "hm",
      "include_colab_link": true
    },
    "kernelspec": {
      "name": "python3",
      "display_name": "Python 3"
    },
    "language_info": {
      "name": "python"
    },
    "accelerator": "GPU"
  },
  "cells": [
    {
      "cell_type": "markdown",
      "metadata": {
        "id": "view-in-github",
        "colab_type": "text"
      },
      "source": [
        "<a href=\"https://colab.research.google.com/github/elijahcw-git/Capstone/blob/main/Logistic_Regression_LAPD.ipynb\" target=\"_parent\"><img src=\"https://colab.research.google.com/assets/colab-badge.svg\" alt=\"Open In Colab\"/></a>"
      ]
    },
    {
      "cell_type": "markdown",
      "source": [
        "The data source for LA crime from 2020: 2024\n",
        "  * https://data.lacity.org/Public-Safety/Crime-Data-from-2020-to-Present/2nrs-mtv8/about_data\n",
        "\n",
        "Previous work:\n",
        "  * Kaggle: https://www.kaggle.com/datasets/hemil26/crime-in-los-angeles/code\n",
        "\n",
        "  * EDA with R: https://www.kaggle.com/code/teresawu726/eda-prediction-of-los-angeles-crime-by#Crime-prediction\n",
        "\n",
        "  * LA Crime Analysis: https://www.kaggle.com/code/shayalvaghasiya/los-angeles-crimes-analysis\n",
        "  "
      ],
      "metadata": {
        "id": "OYfEpdVW9teR"
      }
    },
    {
      "cell_type": "markdown",
      "source": [
        "These questions guide our analysis and are central to our project's objectives:\n",
        "What are the hotspots of crime occurrences in LA, and how can we predict the types of crime?\n",
        "We propose to investigate factors such as time of day, day of the week, geographical locations, and types of crime in LA.\n",
        "\n",
        "2-What role do victim demographics play in crime prediction?\n",
        "We intend to explore the relationships between demographic variables and crime types to identify potential patterns or trends before they occur.\n",
        "\n",
        "3-Do specific weather conditions in LA influence crime patterns and frequencies?We propose to construct a model to explore the correlation between weather and crime, aiming to guide law enforcement in resource planning based on weather-related crime trends."
      ],
      "metadata": {
        "id": "gt7W2OOnBwfU"
      }
    },
    {
      "cell_type": "code",
      "source": [
        "from google.colab import drive\n",
        "drive.mount('/content/drive')\n",
        "\n",
        "# !pip install category_encoders"
      ],
      "metadata": {
        "id": "Uf0CIRBH8ocp",
        "colab": {
          "base_uri": "https://localhost:8080/"
        },
        "outputId": "ef6f1f3a-3185-4b08-806c-7ca90b1f093c"
      },
      "execution_count": 1,
      "outputs": [
        {
          "output_type": "stream",
          "name": "stdout",
          "text": [
            "Drive already mounted at /content/drive; to attempt to forcibly remount, call drive.mount(\"/content/drive\", force_remount=True).\n"
          ]
        }
      ]
    },
    {
      "cell_type": "code",
      "source": [
        "import pandas as pd\n",
        "import numpy as np\n",
        "from sklearn import linear_model\n",
        "import matplotlib.pyplot as plt\n",
        "import seaborn as sns\n",
        "from sklearn.compose import ColumnTransformer\n",
        "from sklearn.preprocessing import OneHotEncoder, StandardScaler\n",
        "from sklearn.model_selection import train_test_split\n",
        "from sklearn.ensemble import RandomForestClassifier\n",
        "from sklearn.pipeline import Pipeline\n",
        "from sklearn.metrics import classification_report\n",
        "from statsmodels.tsa.seasonal import seasonal_decompose\n",
        "from sklearn.linear_model import LogisticRegression\n",
        "from sklearn.metrics import accuracy_score"
      ],
      "metadata": {
        "id": "5Y_Ixt_B99oe"
      },
      "execution_count": 2,
      "outputs": []
    },
    {
      "cell_type": "code",
      "execution_count": 3,
      "metadata": {
        "colab": {
          "base_uri": "https://localhost:8080/"
        },
        "id": "HT7vHUKF8XAm",
        "outputId": "babaf5fb-41ee-4eca-c25c-133a8c293f66"
      },
      "outputs": [
        {
          "output_type": "stream",
          "name": "stdout",
          "text": [
            "(1817882, 26)\n"
          ]
        }
      ],
      "source": [
        "#Import dataset:\n",
        "\n",
        "clean_df = pd.read_csv('/content/drive/MyDrive/df_10_29Feb_4.csv')\n",
        "print(clean_df.shape)"
      ]
    },
    {
      "cell_type": "code",
      "source": [
        "# clean_df['Vict_Descent'].unique()"
      ],
      "metadata": {
        "id": "kFtOhuTO3MEZ"
      },
      "execution_count": 86,
      "outputs": []
    },
    {
      "cell_type": "code",
      "source": [
        "# from google.colab import drive\n",
        "# drive.mount('/content/drive')"
      ],
      "metadata": {
        "id": "W1nbrd_jxUB2"
      },
      "execution_count": 87,
      "outputs": []
    },
    {
      "cell_type": "code",
      "source": [
        "# Print data shape\n",
        "print(f\"Dataset shape: {clean_df.shape}\\n\")\n",
        "\n",
        "missing_values = clean_df.isnull().sum()\n",
        "percentage_missing = (missing_values / len(clean_df)) * 100\n",
        "unique_values = clean_df.nunique()  # Count unique values in each column\n",
        "\n",
        "# Creating a DataFrame to display data type, missing values, percentage of missing values, and number of unique values\n",
        "summary_df = pd.DataFrame({\n",
        "    'Data_type': clean_df.dtypes,\n",
        "    'Missing': missing_values,\n",
        "    '%_Missing': percentage_missing,\n",
        "    'Unique_values': unique_values  # Adding the unique values count\n",
        "})\n",
        "\n",
        "print(summary_df)"
      ],
      "metadata": {
        "colab": {
          "base_uri": "https://localhost:8080/"
        },
        "id": "Ey1j0mhw59ro",
        "outputId": "e0927f76-28f5-46e9-db62-ea1243661709"
      },
      "execution_count": 4,
      "outputs": [
        {
          "output_type": "stream",
          "name": "stdout",
          "text": [
            "Dataset shape: (1817882, 26)\n",
            "\n",
            "                     Data_type  Missing  %_Missing  Unique_values\n",
            "DR_NO                    int64        0        0.0        1614674\n",
            "Date_Rptd               object        0        0.0           5128\n",
            "DATE_OCC                object        0        0.0           5111\n",
            "TIME_OCC                 int64        0        0.0           1439\n",
            "AREA                     int64        0        0.0             21\n",
            "AREA_NAME               object        0        0.0             21\n",
            "Rpt_Dist_No              int64        0        0.0           1267\n",
            "Part_1-2                 int64        0        0.0              2\n",
            "Crm_Cd                   int64        0        0.0             10\n",
            "Crm_Cd_Desc             object        0        0.0             10\n",
            "Vict_Age               float64        0        0.0             99\n",
            "Vict_Sex                object        0        0.0              3\n",
            "Vict_Descent            object        0        0.0             21\n",
            "LOCATION                object        0        0.0          74055\n",
            "LAT                    float64        0        0.0           5547\n",
            "LON                    float64        0        0.0           5088\n",
            "Avg_Temp               float64        0        0.0            333\n",
            "Avg_Dewpoint           float64        0        0.0            496\n",
            "Avg_Humidity           float64        0        0.0            720\n",
            "Avg_Windspeed          float64        0        0.0            161\n",
            "Avg_Pressure           float64        0        0.0             21\n",
            "Total_Precipitation    float64        0        0.0             98\n",
            "Crime_Category          object        0        0.0              5\n",
            "Crime_Category_Code      int64        0        0.0              5\n",
            "Region_Ethnic_Origin    object        0        0.0              6\n",
            "Weapon_Reported          int64        0        0.0              2\n"
          ]
        }
      ]
    },
    {
      "cell_type": "code",
      "source": [
        "# Existing data cleaning steps\n",
        "# clean_df = clean_df[~((clean_df['LAT'] == 0) & (clean_df['LON'] == 0))]\n",
        "# clean_df = clean_df[(clean_df['Avg_Windspeed'] <= 80) & (clean_df['Vict_Age'] <= 100)]\n",
        "# clean_df['Vict_Sex'].fillna('Unknown', inplace=True)\n",
        "# clean_df['Vict_Descent'].fillna('Unknown', inplace=True)\n",
        "# clean_df['Total_Precipitation'].fillna(clean_df['Total_Precipitation'].median(), inplace=True)\n",
        "\n",
        "# Function to categorize age into 3 numeric categories\n",
        "def categorize_age(age):\n",
        "    if age < 18:\n",
        "        return 0  # Category for minors\n",
        "    elif age <= 64:\n",
        "        return 1  # Category for adults\n",
        "    else:\n",
        "        return 2  # Category for seniors\n",
        "\n",
        "# Column for age categories\n",
        "clean_df['Vict_Age_Category'] = clean_df['Vict_Age'].apply(categorize_age)"
      ],
      "metadata": {
        "id": "9gr88hEEf1NJ"
      },
      "execution_count": 5,
      "outputs": []
    },
    {
      "cell_type": "code",
      "source": [
        "# columns_to_drop = ['Crm_Cd_1', 'Premis_Cd', 'Premis_Desc','Status', 'Status_Desc']\n",
        "# clean_df.drop(columns=columns_to_drop, inplace=True)\n",
        "# clean_df['Weapon_Reported'] = clean_df['Weapon_Used_Cd'].notna().astype(int)"
      ],
      "metadata": {
        "id": "aoR1M5qbAB2c"
      },
      "execution_count": null,
      "outputs": []
    },
    {
      "cell_type": "code",
      "source": [
        "# Display the unique value the number count of those unique value.\n",
        "\n",
        "# for column in ['Part_1-2', 'Weapon_Reported','Vict_Sex','Vict_Age_Category']:\n",
        "#   print(f\"Unique values for {column}:\")\n",
        "#   unique_values = clean_df[column].unique()\n",
        "#   for value in unique_values:\n",
        "#     count = clean_df[clean_df[column] == value].shape[0]\n",
        "#     print(f\"  - {value}: {count}\")"
      ],
      "metadata": {
        "colab": {
          "base_uri": "https://localhost:8080/"
        },
        "id": "U5R5YR0bQeoY",
        "outputId": "3427275c-e842-419b-b810-7c79846df1f3"
      },
      "execution_count": null,
      "outputs": [
        {
          "output_type": "stream",
          "name": "stdout",
          "text": [
            "Unique values for Part_1-2:\n",
            "  - 2: 734451\n",
            "  - 1: 1083431\n",
            "Unique values for Weapon_Reported:\n",
            "  - 0: 1239030\n",
            "  - 1: 578852\n",
            "Unique values for Vict_Sex:\n",
            "  - M: 775974\n",
            "  - F: 716259\n",
            "  - X: 325649\n",
            "Unique values for Vict_Age_Category:\n",
            "  - 0: 427288\n",
            "  - 1: 1289574\n",
            "  - 2: 101020\n"
          ]
        }
      ]
    },
    {
      "cell_type": "code",
      "source": [
        "# Select the top 10 most frequent Crm_Cd\n",
        "top_10_crimes = clean_df['Crm_Cd'].value_counts().nlargest(10).index\n",
        "\n",
        "# Filter the dataset to only include rows with the top 10 Crm_Cd\n",
        "df_top_10_crimes = clean_df[clean_df['Crm_Cd'].isin(top_10_crimes)]\n",
        "\n",
        "# Print the new dataset shape\n",
        "print(df_top_10_crimes.shape)\n"
      ],
      "metadata": {
        "colab": {
          "base_uri": "https://localhost:8080/"
        },
        "id": "xitTzQN7ELJV",
        "outputId": "25c7fd12-ddce-4086-ffc6-43cf80d62ea0"
      },
      "execution_count": 6,
      "outputs": [
        {
          "output_type": "stream",
          "name": "stdout",
          "text": [
            "(1817882, 27)\n"
          ]
        }
      ]
    },
    {
      "cell_type": "markdown",
      "source": [
        "# Cleaning Data to top 10 crimes"
      ],
      "metadata": {
        "id": "pS1089Ut9AW4"
      }
    },
    {
      "cell_type": "code",
      "source": [
        "data=df_top_10_crimes\n",
        "\n",
        "# Convert 'Date_Rptd' and 'DATE_OCC' to datetime\n",
        "data['Date_Rptd'] = pd.to_datetime(data['Date_Rptd'])\n",
        "data['DATE_OCC'] = pd.to_datetime(data['DATE_OCC'])\n",
        "\n",
        "# Extract day of week, month, and year from 'DATE_OCC'\n",
        "data['Day_of_Week'] = data['DATE_OCC'].dt.dayofweek\n",
        "data['Month'] = data['DATE_OCC'].dt.month\n",
        "data['Year'] = data['DATE_OCC'].dt.year\n",
        "\n",
        "# Drop the original 'Date_Rptd' and 'DATE_OCC' columns\n",
        "data = data.drop(['Date_Rptd', 'DATE_OCC'], axis=1)\n",
        "\n",
        "# Convert 'Vict_Sex' and 'Vict_Descent' to dummy variables\n",
        "categorical_to_convert = ['Vict_Sex', 'Region_Ethnic_Origin']\n",
        "data = pd.get_dummies(data, columns=categorical_to_convert, drop_first=True)\n",
        "data['Day_of_Week'] = data['Day_of_Week'].astype('category')\n",
        "data['Month'] = data['Month'].astype('category')\n",
        "data['Year'] = data['Year'].astype('category')\n",
        "\n",
        "# Create dummy variables for these columns\n",
        "data = pd.get_dummies(data, columns=['Day_of_Week', 'Month', 'Year'], drop_first=True)\n",
        "\n",
        "\n",
        "# We will not convert 'LOCATION' due to its high cardinality\n",
        "data.drop(['LOCATION','Vict_Age_Category', 'Vict_Descent', 'DR_NO'], axis=1, inplace=True)"
      ],
      "metadata": {
        "id": "YiOuZErKNuza"
      },
      "execution_count": 7,
      "outputs": []
    },
    {
      "cell_type": "code",
      "source": [
        "data.columns"
      ],
      "metadata": {
        "colab": {
          "base_uri": "https://localhost:8080/"
        },
        "id": "L3cvEySk3FvP",
        "outputId": "a37696e9-cc20-49dc-d126-611ffced0a20"
      },
      "execution_count": 8,
      "outputs": [
        {
          "output_type": "execute_result",
          "data": {
            "text/plain": [
              "Index(['TIME_OCC', 'AREA', 'AREA_NAME', 'Rpt_Dist_No', 'Part_1-2', 'Crm_Cd',\n",
              "       'Crm_Cd_Desc', 'Vict_Age', 'LAT', 'LON', 'Avg_Temp', 'Avg_Dewpoint',\n",
              "       'Avg_Humidity', 'Avg_Windspeed', 'Avg_Pressure', 'Total_Precipitation',\n",
              "       'Crime_Category', 'Crime_Category_Code', 'Weapon_Reported',\n",
              "       'Vict_Sex_M', 'Vict_Sex_X', 'Region_Ethnic_Origin_Black',\n",
              "       'Region_Ethnic_Origin_Hispanic/Latin/Mexican',\n",
              "       'Region_Ethnic_Origin_Other', 'Region_Ethnic_Origin_Unknown',\n",
              "       'Region_Ethnic_Origin_White', 'Day_of_Week_1', 'Day_of_Week_2',\n",
              "       'Day_of_Week_3', 'Day_of_Week_4', 'Day_of_Week_5', 'Day_of_Week_6',\n",
              "       'Month_2', 'Month_3', 'Month_4', 'Month_5', 'Month_6', 'Month_7',\n",
              "       'Month_8', 'Month_9', 'Month_10', 'Month_11', 'Month_12', 'Year_2011',\n",
              "       'Year_2012', 'Year_2013', 'Year_2014', 'Year_2015', 'Year_2016',\n",
              "       'Year_2017', 'Year_2018', 'Year_2019', 'Year_2020', 'Year_2021',\n",
              "       'Year_2022', 'Year_2023'],\n",
              "      dtype='object')"
            ]
          },
          "metadata": {},
          "execution_count": 8
        }
      ]
    },
    {
      "cell_type": "code",
      "source": [
        "# Print data shape\n",
        "print(f\"Dataset shape: {data.shape}\\n\")\n",
        "\n",
        "missing_values = data.isnull().sum()\n",
        "percentage_missing = (missing_values / len(data)) * 100\n",
        "unique_values = data.nunique()  # Count unique values in each column\n",
        "non_missing_count = data.count()  # Count non-missing values in each column\n",
        "\n",
        "# Creating a DataFrame to:\n",
        "summary_df = pd.DataFrame({\n",
        "    'Data_type': data.dtypes, # Display data type\n",
        "    'Count': non_missing_count,  # Count of non-missing values\n",
        "    'Missing': missing_values, # Missing values\n",
        "    '%_Missing': percentage_missing, # Percentage of missing values\n",
        "    'Unique_values': unique_values  # Unique values count\n",
        "})\n",
        "\n",
        "print(summary_df)\n"
      ],
      "metadata": {
        "colab": {
          "base_uri": "https://localhost:8080/"
        },
        "id": "DrBIVPLDON30",
        "outputId": "50647f68-1210-4b97-d71b-ec8bc9a51a6d"
      },
      "execution_count": 11,
      "outputs": [
        {
          "output_type": "stream",
          "name": "stdout",
          "text": [
            "Dataset shape: (1817882, 49)\n",
            "\n",
            "                                            Data_type    Count  Missing  \\\n",
            "AREA                                            int64  1817882        0   \n",
            "Part_1-2                                        int64  1817882        0   \n",
            "Vict_Age                                      float64  1817882        0   \n",
            "LAT                                           float64  1817882        0   \n",
            "LON                                           float64  1817882        0   \n",
            "Avg_Temp                                      float64  1817882        0   \n",
            "Avg_Dewpoint                                  float64  1817882        0   \n",
            "Avg_Humidity                                  float64  1817882        0   \n",
            "Avg_Windspeed                                 float64  1817882        0   \n",
            "Avg_Pressure                                  float64  1817882        0   \n",
            "Total_Precipitation                           float64  1817882        0   \n",
            "Crime_Category_Code                             int64  1817882        0   \n",
            "Vict_Sex_M                                      uint8  1817882        0   \n",
            "Vict_Sex_X                                      uint8  1817882        0   \n",
            "Region_Ethnic_Origin_Black                      uint8  1817882        0   \n",
            "Region_Ethnic_Origin_Hispanic/Latin/Mexican     uint8  1817882        0   \n",
            "Region_Ethnic_Origin_Other                      uint8  1817882        0   \n",
            "Region_Ethnic_Origin_Unknown                    uint8  1817882        0   \n",
            "Region_Ethnic_Origin_White                      uint8  1817882        0   \n",
            "Day_of_Week_1                                   uint8  1817882        0   \n",
            "Day_of_Week_2                                   uint8  1817882        0   \n",
            "Day_of_Week_3                                   uint8  1817882        0   \n",
            "Day_of_Week_4                                   uint8  1817882        0   \n",
            "Day_of_Week_5                                   uint8  1817882        0   \n",
            "Day_of_Week_6                                   uint8  1817882        0   \n",
            "Month_2                                         uint8  1817882        0   \n",
            "Month_3                                         uint8  1817882        0   \n",
            "Month_4                                         uint8  1817882        0   \n",
            "Month_5                                         uint8  1817882        0   \n",
            "Month_6                                         uint8  1817882        0   \n",
            "Month_7                                         uint8  1817882        0   \n",
            "Month_8                                         uint8  1817882        0   \n",
            "Month_9                                         uint8  1817882        0   \n",
            "Month_10                                        uint8  1817882        0   \n",
            "Month_11                                        uint8  1817882        0   \n",
            "Month_12                                        uint8  1817882        0   \n",
            "Year_2011                                       uint8  1817882        0   \n",
            "Year_2012                                       uint8  1817882        0   \n",
            "Year_2013                                       uint8  1817882        0   \n",
            "Year_2014                                       uint8  1817882        0   \n",
            "Year_2015                                       uint8  1817882        0   \n",
            "Year_2016                                       uint8  1817882        0   \n",
            "Year_2017                                       uint8  1817882        0   \n",
            "Year_2018                                       uint8  1817882        0   \n",
            "Year_2019                                       uint8  1817882        0   \n",
            "Year_2020                                       uint8  1817882        0   \n",
            "Year_2021                                       uint8  1817882        0   \n",
            "Year_2022                                       uint8  1817882        0   \n",
            "Year_2023                                       uint8  1817882        0   \n",
            "\n",
            "                                             %_Missing  Unique_values  \n",
            "AREA                                               0.0             21  \n",
            "Part_1-2                                           0.0              2  \n",
            "Vict_Age                                           0.0             99  \n",
            "LAT                                                0.0           5547  \n",
            "LON                                                0.0           5088  \n",
            "Avg_Temp                                           0.0            333  \n",
            "Avg_Dewpoint                                       0.0            496  \n",
            "Avg_Humidity                                       0.0            720  \n",
            "Avg_Windspeed                                      0.0            161  \n",
            "Avg_Pressure                                       0.0             21  \n",
            "Total_Precipitation                                0.0             98  \n",
            "Crime_Category_Code                                0.0              5  \n",
            "Vict_Sex_M                                         0.0              2  \n",
            "Vict_Sex_X                                         0.0              2  \n",
            "Region_Ethnic_Origin_Black                         0.0              2  \n",
            "Region_Ethnic_Origin_Hispanic/Latin/Mexican        0.0              2  \n",
            "Region_Ethnic_Origin_Other                         0.0              2  \n",
            "Region_Ethnic_Origin_Unknown                       0.0              2  \n",
            "Region_Ethnic_Origin_White                         0.0              2  \n",
            "Day_of_Week_1                                      0.0              2  \n",
            "Day_of_Week_2                                      0.0              2  \n",
            "Day_of_Week_3                                      0.0              2  \n",
            "Day_of_Week_4                                      0.0              2  \n",
            "Day_of_Week_5                                      0.0              2  \n",
            "Day_of_Week_6                                      0.0              2  \n",
            "Month_2                                            0.0              2  \n",
            "Month_3                                            0.0              2  \n",
            "Month_4                                            0.0              2  \n",
            "Month_5                                            0.0              2  \n",
            "Month_6                                            0.0              2  \n",
            "Month_7                                            0.0              2  \n",
            "Month_8                                            0.0              2  \n",
            "Month_9                                            0.0              2  \n",
            "Month_10                                           0.0              2  \n",
            "Month_11                                           0.0              2  \n",
            "Month_12                                           0.0              2  \n",
            "Year_2011                                          0.0              2  \n",
            "Year_2012                                          0.0              2  \n",
            "Year_2013                                          0.0              2  \n",
            "Year_2014                                          0.0              2  \n",
            "Year_2015                                          0.0              2  \n",
            "Year_2016                                          0.0              2  \n",
            "Year_2017                                          0.0              2  \n",
            "Year_2018                                          0.0              2  \n",
            "Year_2019                                          0.0              2  \n",
            "Year_2020                                          0.0              2  \n",
            "Year_2021                                          0.0              2  \n",
            "Year_2022                                          0.0              2  \n",
            "Year_2023                                          0.0              2  \n"
          ]
        }
      ]
    },
    {
      "cell_type": "code",
      "source": [
        "data = data.drop(columns=['Crm_Cd_Desc', 'Crime_Category', 'Crm_Cd', 'AREA_NAME', 'Rpt_Dist_No'], axis = 0)\n",
        "data = data.drop(columns=['TIME_OCC'], axis = 0)\n",
        "data = data.drop(columns=['Weapon_Reported'], axis = 0)"
      ],
      "metadata": {
        "id": "Y5KqsQhx048-"
      },
      "execution_count": 10,
      "outputs": []
    },
    {
      "cell_type": "markdown",
      "source": [
        "# Algorithms LR"
      ],
      "metadata": {
        "id": "TVsyyml866n4"
      }
    },
    {
      "cell_type": "code",
      "source": [
        "X.columns"
      ],
      "metadata": {
        "colab": {
          "base_uri": "https://localhost:8080/",
          "height": 141
        },
        "id": "28l7qdgh2wYj",
        "outputId": "83a9ffcc-ae4a-46aa-ffc6-d5b165c90e98"
      },
      "execution_count": 12,
      "outputs": [
        {
          "output_type": "error",
          "ename": "NameError",
          "evalue": "name 'X' is not defined",
          "traceback": [
            "\u001b[0;31m---------------------------------------------------------------------------\u001b[0m",
            "\u001b[0;31mNameError\u001b[0m                                 Traceback (most recent call last)",
            "\u001b[0;32m<ipython-input-12-901c1061bf7c>\u001b[0m in \u001b[0;36m<cell line: 1>\u001b[0;34m()\u001b[0m\n\u001b[0;32m----> 1\u001b[0;31m \u001b[0mX\u001b[0m\u001b[0;34m.\u001b[0m\u001b[0mcolumns\u001b[0m\u001b[0;34m\u001b[0m\u001b[0;34m\u001b[0m\u001b[0m\n\u001b[0m",
            "\u001b[0;31mNameError\u001b[0m: name 'X' is not defined"
          ]
        }
      ]
    },
    {
      "cell_type": "code",
      "source": [
        "# Separate the features and the target variable\n",
        "X = data.drop('Crime_Category_Code', axis=1)  # Features\n",
        "y = data['Crime_Category_Code']  # Target variable\n",
        "\n",
        "# Split the data into training and testing sets\n",
        "X_train, X_test, y_train, y_test = train_test_split(X, y, test_size=0.2, random_state=42)\n",
        "\n",
        "# Initialize the Logistic Regression model\n",
        "log_reg = LogisticRegression(max_iter=1000)\n",
        "\n",
        "# Train the model\n",
        "log_reg.fit(X_train, y_train)\n",
        "\n",
        "# Make predictions on the testing set\n",
        "y_pred = log_reg.predict(X_test)\n",
        "\n",
        "# Calculate the accuracy of the model\n",
        "accuracy = accuracy_score(y_test, y_pred)\n",
        "print(f\"Accuracy of the Logistic Regression model: {accuracy * 100:.2f}%\")\n"
      ],
      "metadata": {
        "colab": {
          "base_uri": "https://localhost:8080/"
        },
        "id": "rZf6zUpZQe7H",
        "outputId": "ffeae500-c2b0-46ea-bfbf-484da5d91854"
      },
      "execution_count": 15,
      "outputs": [
        {
          "output_type": "stream",
          "name": "stdout",
          "text": [
            "Accuracy of the Logistic Regression model: 72.81%\n"
          ]
        },
        {
          "output_type": "stream",
          "name": "stderr",
          "text": [
            "/usr/local/lib/python3.10/dist-packages/sklearn/linear_model/_logistic.py:458: ConvergenceWarning: lbfgs failed to converge (status=1):\n",
            "STOP: TOTAL NO. of ITERATIONS REACHED LIMIT.\n",
            "\n",
            "Increase the number of iterations (max_iter) or scale the data as shown in:\n",
            "    https://scikit-learn.org/stable/modules/preprocessing.html\n",
            "Please also refer to the documentation for alternative solver options:\n",
            "    https://scikit-learn.org/stable/modules/linear_model.html#logistic-regression\n",
            "  n_iter_i = _check_optimize_result(\n"
          ]
        }
      ]
    },
    {
      "cell_type": "code",
      "source": [
        "X.columns"
      ],
      "metadata": {
        "id": "085eR5ngpwSb",
        "colab": {
          "base_uri": "https://localhost:8080/"
        },
        "outputId": "dea72a53-83ea-4986-fe2f-b0de5bfaa71d"
      },
      "execution_count": null,
      "outputs": [
        {
          "output_type": "execute_result",
          "data": {
            "text/plain": [
              "Index(['AREA', 'Part_1-2', 'Vict_Age', 'LAT', 'LON', 'Avg_Temp',\n",
              "       'Avg_Dewpoint', 'Avg_Humidity', 'Avg_Windspeed', 'Avg_Pressure',\n",
              "       'Total_Precipitation', 'Weapon_Reported', 'Vict_Sex_M', 'Vict_Sex_X',\n",
              "       'Region_Ethnic_Origin_Black',\n",
              "       'Region_Ethnic_Origin_Hispanic/Latin/Mexican',\n",
              "       'Region_Ethnic_Origin_Other', 'Region_Ethnic_Origin_Unknown',\n",
              "       'Region_Ethnic_Origin_White', 'Day_of_Week_1', 'Day_of_Week_2',\n",
              "       'Day_of_Week_3', 'Day_of_Week_4', 'Day_of_Week_5', 'Day_of_Week_6',\n",
              "       'Month_2', 'Month_3', 'Month_4', 'Month_5', 'Month_6', 'Month_7',\n",
              "       'Month_8', 'Month_9', 'Month_10', 'Month_11', 'Month_12', 'Year_2011',\n",
              "       'Year_2012', 'Year_2013', 'Year_2014', 'Year_2015', 'Year_2016',\n",
              "       'Year_2017', 'Year_2018', 'Year_2019', 'Year_2020', 'Year_2021',\n",
              "       'Year_2022', 'Year_2023'],\n",
              "      dtype='object')"
            ]
          },
          "metadata": {},
          "execution_count": 68
        }
      ]
    },
    {
      "cell_type": "markdown",
      "source": [],
      "metadata": {
        "id": "RJqoF88i8BTt"
      }
    },
    {
      "cell_type": "code",
      "source": [
        "data[['Day_of_Week', 'Month','Year']].value_counts()"
      ],
      "metadata": {
        "colab": {
          "base_uri": "https://localhost:8080/"
        },
        "id": "muUxXd1f6sx7",
        "outputId": "55f6c62e-5222-4922-c33c-bf0eee8fba4f"
      },
      "execution_count": null,
      "outputs": [
        {
          "output_type": "execute_result",
          "data": {
            "text/plain": [
              "Day_of_Week  Month  Year\n",
              "5            1      2011    4681\n",
              "6            1      2023    3813\n",
              "4            9      2023    3789\n",
              "             1      2010    3767\n",
              "5            12     2023    3634\n",
              "                            ... \n",
              "2            11     2020     238\n",
              "5            12     2020     231\n",
              "6            12     2020     219\n",
              "3            11     2020     218\n",
              "0            12     2020     209\n",
              "Length: 1176, dtype: int64"
            ]
          },
          "metadata": {},
          "execution_count": 46
        }
      ]
    },
    {
      "cell_type": "code",
      "source": [
        "coefficients = log_reg.coef_[0]\n",
        "\n",
        "# Map coefficients to features\n",
        "feature_names = X_train.columns\n",
        "feature_impact = pd.DataFrame({\n",
        "    'Feature': feature_names,\n",
        "    'Coefficient': coefficients\n",
        "}).sort_values(by='Coefficient', ascending=False)\n",
        "\n",
        "print(feature_impact)"
      ],
      "metadata": {
        "colab": {
          "base_uri": "https://localhost:8080/"
        },
        "id": "gtOD15tQ73uO",
        "outputId": "ac4ade85-cb17-40c6-9cd0-9d7f1e481cc2"
      },
      "execution_count": 75,
      "outputs": [
        {
          "output_type": "stream",
          "name": "stdout",
          "text": [
            "                                        Feature  Coefficient\n",
            "13                   Region_Ethnic_Origin_Black     1.024716\n",
            "11                                   Vict_Sex_M     0.899332\n",
            "14  Region_Ethnic_Origin_Hispanic/Latin/Mexican     0.754184\n",
            "47                                    Year_2023     0.459328\n",
            "23                                Day_of_Week_6     0.236231\n",
            "45                                    Year_2021     0.215123\n",
            "46                                    Year_2022     0.139429\n",
            "22                                Day_of_Week_5     0.129451\n",
            "44                                    Year_2020     0.115287\n",
            "9                                  Avg_Pressure     0.112252\n",
            "43                                    Year_2019     0.091799\n",
            "28                                      Month_6     0.047852\n",
            "27                                      Month_5     0.036137\n",
            "25                                      Month_3     0.033646\n",
            "8                                 Avg_Windspeed     0.024312\n",
            "26                                      Month_4     0.023956\n",
            "29                                      Month_7     0.022029\n",
            "5                                      Avg_Temp     0.015086\n",
            "2                                      Vict_Age     0.014136\n",
            "40                                    Year_2016     0.008678\n",
            "10                          Total_Precipitation     0.008171\n",
            "41                                    Year_2017     0.007688\n",
            "30                                      Month_8     0.004761\n",
            "6                                  Avg_Dewpoint     0.002042\n",
            "7                                  Avg_Humidity     0.000964\n",
            "42                                    Year_2018    -0.005380\n",
            "24                                      Month_2    -0.006337\n",
            "0                                          AREA    -0.012594\n",
            "34                                     Month_12    -0.017090\n",
            "33                                     Month_11    -0.024109\n",
            "32                                     Month_10    -0.033141\n",
            "4                                           LON    -0.034263\n",
            "39                                    Year_2015    -0.040858\n",
            "31                                      Month_9    -0.041395\n",
            "21                                Day_of_Week_4    -0.068370\n",
            "20                                Day_of_Week_3    -0.070145\n",
            "19                                Day_of_Week_2    -0.071122\n",
            "18                                Day_of_Week_1    -0.075736\n",
            "16                 Region_Ethnic_Origin_Unknown    -0.098828\n",
            "38                                    Year_2014    -0.129206\n",
            "35                                    Year_2011    -0.140256\n",
            "3                                           LAT    -0.162046\n",
            "36                                    Year_2012    -0.219553\n",
            "37                                    Year_2013    -0.239468\n",
            "17                   Region_Ethnic_Origin_White    -0.398217\n",
            "12                                   Vict_Sex_X    -0.538962\n",
            "15                   Region_Ethnic_Origin_Other    -0.806489\n",
            "1                                      Part_1-2    -2.576338\n"
          ]
        }
      ]
    }
  ]
}