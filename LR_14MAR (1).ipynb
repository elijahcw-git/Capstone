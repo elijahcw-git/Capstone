{
 "cells": [
  {
   "cell_type": "code",
   "execution_count": 1,
   "id": "8002dc1a",
   "metadata": {},
   "outputs": [],
   "source": [
    "import pandas as pd\n",
    "import numpy as np\n",
    "from sklearn.model_selection import train_test_split\n",
    "from sklearn.metrics import accuracy_score, classification_report, confusion_matrix\n",
    "import matplotlib.pyplot as plt\n",
    "import seaborn as sns\n",
    "from sklearn.metrics import cohen_kappa_score, matthews_corrcoef, log_loss\n",
    "from sklearn.linear_model import LogisticRegression\n",
    "import warnings\n",
    "warnings.filterwarnings('ignore')\n"
   ]
  },
  {
   "cell_type": "code",
   "execution_count": 2,
   "id": "0c27a1c0",
   "metadata": {},
   "outputs": [],
   "source": [
    "data  = pd.read_csv('clean_df_1Mar2024.csv')"
   ]
  },
  {
   "cell_type": "code",
   "execution_count": 3,
   "id": "6f571ff6",
   "metadata": {},
   "outputs": [],
   "source": [
    "data['Date_Rptd'] = pd.to_datetime(data['Date_Rptd'], format='%m/%d/%Y %I:%M:%S %p')\n",
    "data['DATE_OCC'] = pd.to_datetime(data['DATE_OCC'], format='%Y-%m-%d')\n",
    "data['Day_of_Week'] = data['DATE_OCC'].dt.dayofweek.astype('category')\n",
    "data['Month'] = data['DATE_OCC'].dt.month.astype('category')\n",
    "data['Year'] = data['DATE_OCC'].dt.year.astype('category')\n",
    "\n",
    "# Drop the original 'Date_Rptd' and 'DATE_OCC' columns\n",
    "data = data.drop(['Date_Rptd', 'DATE_OCC'], axis=1)\n",
    "\n",
    "# Convert 'Vict_Sex' and 'Vict_Descent' to dummy variables\n",
    "categorical_to_convert = ['Vict_Sex', 'Region_Ethnic_Origin', 'AREA']\n",
    "data = pd.get_dummies(data, columns=categorical_to_convert, drop_first=True, sparse=True)\n",
    "data['Day_of_Week'] = data['Day_of_Week'].astype('category')\n",
    "data['Month'] = data['Month'].astype('category')\n",
    "data['Year'] = data['Year'].astype('category')\n",
    "\n",
    "# Create dummy variables for these columns\n",
    "data = pd.get_dummies(data, columns=['Day_of_Week', 'Month', 'Year'], drop_first=True, sparse = True)\n",
    "\n",
    "\n",
    "# We will not convert 'LOCATION' due to its high cardinality\n",
    "data.drop(['LOCATION', 'Vict_Descent', 'DR_NO'], axis=1, inplace=True)"
   ]
  },
  {
   "cell_type": "code",
   "execution_count": 4,
   "id": "a3711c06",
   "metadata": {},
   "outputs": [],
   "source": [
    "data = data.drop(columns=['Crm_Cd_Desc', 'Crime_Category', 'Crm_Cd', 'AREA_NAME', 'Rpt_Dist_No', 'LAT', 'LON'], axis = 0)"
   ]
  },
  {
   "cell_type": "code",
   "execution_count": 5,
   "id": "9c5c8a92",
   "metadata": {},
   "outputs": [
    {
     "data": {
      "text/plain": [
       "Index(['TIME_OCC', 'Part_1-2', 'Vict_Age', 'Avg_Temp', 'Avg_Dewpoint',\n",
       "       'Avg_Humidity', 'Avg_Windspeed', 'Avg_Pressure', 'Total_Precipitation',\n",
       "       'Crime_Category_Code', 'Weapon_Reported', 'Vict_Sex_M', 'Vict_Sex_X',\n",
       "       'Region_Ethnic_Origin_Black',\n",
       "       'Region_Ethnic_Origin_Hispanic/Latin/Mexican',\n",
       "       'Region_Ethnic_Origin_Other', 'Region_Ethnic_Origin_Unknown',\n",
       "       'Region_Ethnic_Origin_White', 'AREA_2', 'AREA_3', 'AREA_4', 'AREA_5',\n",
       "       'AREA_6', 'AREA_7', 'AREA_8', 'AREA_9', 'AREA_10', 'AREA_11', 'AREA_12',\n",
       "       'AREA_13', 'AREA_14', 'AREA_15', 'AREA_16', 'AREA_17', 'AREA_18',\n",
       "       'AREA_19', 'AREA_20', 'AREA_21', 'Day_of_Week_1', 'Day_of_Week_2',\n",
       "       'Day_of_Week_3', 'Day_of_Week_4', 'Day_of_Week_5', 'Day_of_Week_6',\n",
       "       'Month_2', 'Month_3', 'Month_4', 'Month_5', 'Month_6', 'Month_7',\n",
       "       'Month_8', 'Month_9', 'Month_10', 'Month_11', 'Month_12', 'Year_2011',\n",
       "       'Year_2012', 'Year_2013', 'Year_2014', 'Year_2015', 'Year_2016',\n",
       "       'Year_2017', 'Year_2018', 'Year_2019', 'Year_2020', 'Year_2021',\n",
       "       'Year_2022', 'Year_2023'],\n",
       "      dtype='object')"
      ]
     },
     "execution_count": 5,
     "metadata": {},
     "output_type": "execute_result"
    }
   ],
   "source": [
    "data.columns"
   ]
  },
  {
   "cell_type": "code",
   "execution_count": 6,
   "id": "6291fcf0",
   "metadata": {},
   "outputs": [],
   "source": [
    "X_lr_full = data.drop('Crime_Category_Code', axis=1)  # Features\n",
    "y_lr_full = data['Crime_Category_Code']"
   ]
  },
  {
   "cell_type": "code",
   "execution_count": 7,
   "id": "16b0fddb",
   "metadata": {},
   "outputs": [],
   "source": [
    "X_lr_full_train, X_lr_full_test, y_lr_full_train, y_lr_full_test = train_test_split(X_lr_full, y_lr_full, test_size=0.2, random_state=42)"
   ]
  },
  {
   "cell_type": "code",
   "execution_count": 8,
   "id": "8402900c",
   "metadata": {},
   "outputs": [],
   "source": [
    "lr_full_model = LogisticRegression(multi_class='multinomial', solver='saga', max_iter=1000, random_state=42, n_jobs = -1)"
   ]
  },
  {
   "cell_type": "code",
   "execution_count": null,
   "id": "a1b9ff68",
   "metadata": {},
   "outputs": [],
   "source": [
    "lr_full_model.fit(X_lr_full_train,  y_lr_full_train)"
   ]
  },
  {
   "cell_type": "code",
   "execution_count": null,
   "id": "49c8a9c8",
   "metadata": {
    "scrolled": true
   },
   "outputs": [],
   "source": [
    "y_pred_lr_full = lr_full_model.predict(X_lr_full_test)\n",
    "\n",
    "# Accuracy\n",
    "accuracy = accuracy_score(y_lr_full_test, y_pred_lr_full)\n",
    "print(f\"Accuracy: {accuracy:.4f}\")\n",
    "\n",
    "# Classification report\n",
    "print(classification_report(y_lr_full_test, y_pred_lr_full))\n",
    "\n",
    "# Confusion Matrix\n"
   ]
  },
  {
   "cell_type": "code",
   "execution_count": null,
   "id": "a7b34e38",
   "metadata": {},
   "outputs": [],
   "source": [
    "cm = confusion_matrix(y_lr_full_test, y_pred_lr_full)\n",
    "sns.heatmap(cm, annot=True, fmt=\"d\")\n",
    "plt.title('Confusion Matrix')\n",
    "plt.ylabel('Actual label')\n",
    "plt.xlabel('Predicted label')\n",
    "plt.show()"
   ]
  },
  {
   "cell_type": "code",
   "execution_count": null,
   "id": "baa8ef72",
   "metadata": {},
   "outputs": [],
   "source": [
    "X_lr_wo_victim = data.drop(['Crime_Category_Code', 'Vict_Sex_M', 'Vict_Sex_X', 'Region_Ethnic_Origin_Black',\n",
    "       'Region_Ethnic_Origin_Hispanic/Latin/Mexican',\n",
    "       'Region_Ethnic_Origin_Other', 'Region_Ethnic_Origin_Unknown',\n",
    "       'Region_Ethnic_Origin_White', 'Vict_Age'], axis=1)  # Features\n",
    "y_lr_wo_victim = data['Crime_Category_Code']"
   ]
  },
  {
   "cell_type": "code",
   "execution_count": null,
   "id": "a341aed3",
   "metadata": {},
   "outputs": [],
   "source": [
    "X_lr_wo_victim_train, X_lr_wo_victim_test, y_lr_wo_victim_train, y_lr_wo_victim_test = train_test_split(X_lr_wo_victim, y_lr_wo_victim, test_size=0.2, random_state=42)"
   ]
  },
  {
   "cell_type": "code",
   "execution_count": null,
   "id": "828ec59d",
   "metadata": {},
   "outputs": [],
   "source": [
    "lr_wo_victim_model = LogisticRegression(multi_class='multinomial', solver='saga', max_iter=1000, random_state=42, n_jobs = -1)"
   ]
  },
  {
   "cell_type": "code",
   "execution_count": null,
   "id": "553be2cd",
   "metadata": {
    "scrolled": true
   },
   "outputs": [],
   "source": [
    "lr_wo_victim_model.fit(X_lr_wo_victim_train,  y_lr_wo_victim_train)"
   ]
  },
  {
   "cell_type": "code",
   "execution_count": null,
   "id": "6aca53ef",
   "metadata": {},
   "outputs": [],
   "source": [
    "y_pred_wo_victim = lr_wo_victim_model.predict(X_lr_wo_victim_test)\n",
    "\n",
    "# Accuracy\n",
    "accuracy = accuracy_score(y_lr_wo_victim_test, y_pred_wo_victim)\n",
    "print(f\"Accuracy: {accuracy:.4f}\")\n",
    "\n",
    "# Classification report\n",
    "print(classification_report(y_lr_wo_victim_test, y_pred_wo_victim))\n",
    "\n",
    "# Confusion Matrix\n",
    "cm = confusion_matrix(y_lr_wo_victim_test, y_pred_wo_victim)\n",
    "sns.heatmap(cm, annot=True, fmt=\"d\")\n",
    "plt.title('Confusion Matrix')\n",
    "plt.ylabel('Actual label')\n",
    "plt.xlabel('Predicted label')\n",
    "plt.show()"
   ]
  },
  {
   "cell_type": "code",
   "execution_count": null,
   "id": "3d78c081",
   "metadata": {},
   "outputs": [],
   "source": [
    "X_lr_wo_weather = data.drop(['Crime_Category_Code', 'Avg_Temp',\n",
    "       'Avg_Dewpoint', 'Avg_Humidity', 'Avg_Windspeed', 'Avg_Pressure',\n",
    "       'Total_Precipitation'], axis=1) \n",
    "y_lr_wo_weather = data['Crime_Category_Code']"
   ]
  },
  {
   "cell_type": "code",
   "execution_count": null,
   "id": "a7f10ffc",
   "metadata": {},
   "outputs": [],
   "source": [
    "X_lr_wo_weather_train, X_lr_wo_weather_test, y_lr_wo_weather_train, y_lr_wo_weather_test = train_test_split(X_lr_wo_weather, y_lr_wo_weather, test_size=0.2, random_state=42)"
   ]
  },
  {
   "cell_type": "code",
   "execution_count": null,
   "id": "bb5e2569",
   "metadata": {},
   "outputs": [],
   "source": [
    "lr_wo_weather_model = LogisticRegression(multi_class='multinomial', solver='saga', max_iter=100, random_state=42, n_jobs = -1)"
   ]
  },
  {
   "cell_type": "code",
   "execution_count": null,
   "id": "75d31121",
   "metadata": {},
   "outputs": [],
   "source": [
    "lr_wo_weather_model.fit(X_lr_wo_weather_train,  y_lr_wo_weather_train)"
   ]
  },
  {
   "cell_type": "code",
   "execution_count": null,
   "id": "c0e8face",
   "metadata": {
    "scrolled": false
   },
   "outputs": [],
   "source": [
    "y_pred_wo_weather = lr_wo_weather_model.predict(X_lr_wo_weather_test)\n",
    "\n",
    "# Accuracy\n",
    "accuracy = accuracy_score(y_lr_wo_weather_test, y_pred_wo_weather)\n",
    "print(f\"Accuracy: {accuracy:.4f}\")\n",
    "\n",
    "# Classification report\n",
    "print(classification_report(y_lr_wo_weather_test, y_pred_wo_weather))\n",
    "\n",
    "# Confusion Matrix\n",
    "cm = confusion_matrix(y_lr_wo_weather_test, y_pred_wo_weather)\n",
    "sns.heatmap(cm, annot=True, fmt=\"d\")\n",
    "plt.title('Confusion Matrix')\n",
    "plt.ylabel('Actual label')\n",
    "plt.xlabel('Predicted label')\n",
    "plt.show()"
   ]
  },
  {
   "cell_type": "code",
   "execution_count": null,
   "id": "2505f9b4",
   "metadata": {},
   "outputs": [],
   "source": [
    "X_lr_wo_weathervictim = data.drop(['Crime_Category_Code', 'Vict_Sex_M', 'Vict_Sex_X', 'Region_Ethnic_Origin_Black',\n",
    "       'Region_Ethnic_Origin_Hispanic/Latin/Mexican',\n",
    "       'Region_Ethnic_Origin_Other', 'Region_Ethnic_Origin_Unknown',\n",
    "       'Region_Ethnic_Origin_White', 'Vict_Age', 'Crime_Category_Code', 'Avg_Temp',\n",
    "       'Avg_Dewpoint', 'Avg_Humidity', 'Avg_Windspeed', 'Avg_Pressure',\n",
    "       'Total_Precipitation'], axis=1)  # Features\n",
    "\n",
    "y_lr_wo_weathervictim = data['Crime_Category_Code']"
   ]
  },
  {
   "cell_type": "code",
   "execution_count": null,
   "id": "e3f59831",
   "metadata": {},
   "outputs": [],
   "source": [
    "X_lr_wo_weathervictim_train, X_lr_wo_weathervictim_test, y_lr_wo_weathervictim_train, y_lr_wo_weathervictim_test = train_test_split(X_lr_wo_weathervictim, y_lr_wo_weathervictim, test_size=0.2, random_state=42)"
   ]
  },
  {
   "cell_type": "code",
   "execution_count": null,
   "id": "073f5b7f",
   "metadata": {},
   "outputs": [],
   "source": [
    "lr_wo_weathervictim_model = LogisticRegression(multi_class='multinomial', solver='saga', max_iter=1000, random_state=42, n_jobs = -1)"
   ]
  },
  {
   "cell_type": "code",
   "execution_count": null,
   "id": "25636459",
   "metadata": {},
   "outputs": [],
   "source": [
    "lr_wo_weathervictim_model.fit(X_lr_wo_weathervictim_train,  y_lr_wo_weathervictim_train)"
   ]
  },
  {
   "cell_type": "code",
   "execution_count": null,
   "id": "b7c8a0e2",
   "metadata": {},
   "outputs": [],
   "source": [
    "y_pred_wo_weathervictim = lr_wo_weathervictim_model.predict(X_lr_wo_weathervictim_test)\n",
    "\n",
    "# Accuracy\n",
    "accuracy = accuracy_score(y_lr_wo_weathervictim_test, y_pred_wo_weathervictim)\n",
    "print(f\"Accuracy: {accuracy:.4f}\")\n",
    "\n",
    "# Classification report\n",
    "print(classification_report(y_lr_wo_weathervictim_test, y_pred_wo_weathervictim))\n",
    "\n",
    "# Confusion Matrix\n",
    "cm = confusion_matrix(y_lr_wo_weathervictim_test, y_pred_wo_weathervictim)\n",
    "sns.heatmap(cm, annot=True, fmt=\"d\")\n",
    "plt.title('Confusion Matrix')\n",
    "plt.ylabel('Actual label')\n",
    "plt.xlabel('Predicted label')\n",
    "plt.show()"
   ]
  },
  {
   "cell_type": "code",
   "execution_count": null,
   "id": "514f979d",
   "metadata": {},
   "outputs": [],
   "source": [
    "coefs = np.abs(lr_full_model.coef_[0])  # Take absolute value to measure magnitude of importance\n",
    "features = np.array(X_lr_full.columns)  # X should be your feature dataframe\n",
    "full_importance = pd.DataFrame(coefs, index=features, columns=['Importance']).sort_values(by='Importance', ascending=False)\n",
    "\n",
    "print(full_importance)\n"
   ]
  },
  {
   "cell_type": "code",
   "execution_count": null,
   "id": "ed1fbaed",
   "metadata": {},
   "outputs": [],
   "source": [
    "pd.set_option('display.max_rows', 61)\n",
    "\n",
    "\n",
    "coefs = np.abs(lr_wo_weather_model.coef_[0])  # Take absolute value to measure magnitude of importance\n",
    "features = np.array(X_lr_wo_weather.columns)  # X should be your feature dataframe\n",
    "wo_weather_importance = pd.DataFrame(coefs, index=features, columns=['Importance']).sort_values(by='Importance', ascending=False)\n",
    "\n",
    "print(wo_weather_importance)\n"
   ]
  },
  {
   "cell_type": "code",
   "execution_count": null,
   "id": "36ec7659",
   "metadata": {
    "scrolled": true
   },
   "outputs": [],
   "source": [
    "coefs = np.abs(lr_wo_victim_model.coef_[0])  # Take absolute value to measure magnitude of importance\n",
    "features = np.array(X_lr_wo_victim.columns)  # X should be your feature dataframe\n",
    "wo_victim_importance = pd.DataFrame(coefs, index=features, columns=['Importance']).sort_values(by='Importance', ascending=False)\n",
    "\n",
    "print(wo_victim_importance)\n"
   ]
  },
  {
   "cell_type": "code",
   "execution_count": null,
   "id": "11c39b38",
   "metadata": {
    "scrolled": true
   },
   "outputs": [],
   "source": [
    "coefs = np.abs(lr_wo_weathervictim_model.coef_[0])  # Take absolute value to measure magnitude of importance\n",
    "features = np.array(X_lr_wo_weathervictim.columns)  # X should be your feature dataframe\n",
    "wo_weathervictim_importance = pd.DataFrame(coefs, index=features, columns=['Importance']).sort_values(by='Importance', ascending=False)\n",
    "\n",
    "print(wo_weathervictim_importance)\n"
   ]
  },
  {
   "cell_type": "code",
   "execution_count": null,
   "id": "1fc7c25a",
   "metadata": {},
   "outputs": [],
   "source": [
    "plt.figure(figsize=(10, 8))  # Adjust the figure size as needed\n",
    "plt.barh(wo_weathervictim_importance.index, wo_weathervictim_importance['Importance'])\n",
    "plt.xlabel('Importance')\n",
    "plt.ylabel('Features')\n",
    "plt.title('Feature Importances in Logistic Regression Model')\n",
    "plt.gca().invert_yaxis()  # Invert y-axis to have the most important feature on top\n",
    "plt.show()"
   ]
  },
  {
   "cell_type": "code",
   "execution_count": null,
   "id": "cb22a5de",
   "metadata": {},
   "outputs": [],
   "source": [
    "from sklearn.calibration import CalibratedClassifierCV\n",
    "\n",
    "calibrated_lr_full_model = CalibratedClassifierCV(lr_full_model, method='sigmoid', cv=5)\n",
    "calibrated_lr_full_model.fit(X_lr_full_train, y_lr_full_train)\n",
    "\n",
    "calibrated_lr_wo_weather_model = CalibratedClassifierCV(lr_wo_weather_model, method='sigmoid', cv=5)\n",
    "calibrated_lr_wo_weather_model.fit(X_lr_wo_weather_train, y_lr_wo_weather_train)\n",
    "\n",
    "calibrated_lr_wo_victim_model = CalibratedClassifierCV(lr_wo_victim_model, method='sigmoid', cv=5)\n",
    "calibrated_lr_wo_victim_model.fit(X_lr_wo_victim_train, y_lr_wo_victim_train)\n",
    "\n",
    "calibrated_lr_wo_weathervictim_model = CalibratedClassifierCV(lr_wo_weathervictim_model, method='sigmoid', cv=5)\n",
    "calibrated_lr_wo_weathervictim_model.fit(X_lr_wo_weathervictim_train, y_lr_wo_weathervictim_train)\n",
    "\n",
    "# Now, you can use predict_proba method for log_loss calculation\n",
    "\n",
    "# Full model\n",
    "y_pred_lr_full = calibrated_lr_full_model.predict(X_lr_full_test)\n",
    "mcc = matthews_corrcoef(y_lr_full_test, y_pred_lr_full)\n",
    "cohen_kappa = cohen_kappa_score(y_lr_full_test, y_pred_lr_full)\n",
    "y_pred_proba = calibrated_lr_full_model.predict_proba(X_lr_full_test)\n",
    "logloss = log_loss(y_lr_full_test, y_pred_proba)\n",
    "print(f\"Full Model - Matthews Correlation Coefficient: {mcc:.4f}, Cohen's Kappa: {cohen_kappa:.4f}, Log Loss: {logloss:.4f}\")\n",
    "\n",
    "# Model without weather\n",
    "y_pred_wo_weather = calibrated_lr_wo_weather_model.predict(X_lr_wo_weather_test)\n",
    "mcc = matthews_corrcoef(y_lr_wo_weather_test, y_pred_wo_weather)\n",
    "cohen_kappa = cohen_kappa_score(y_lr_wo_weather_test, y_pred_wo_weather)\n",
    "y_pred_proba_wo_weather = calibrated_lr_wo_weather_model.predict_proba(X_lr_wo_weather_test)\n",
    "logloss = log_loss(y_lr_wo_weather_test, y_pred_proba_wo_weather)\n",
    "print(f\"Without Weather - Matthews Correlation Coefficient: {mcc:.4f}, Cohen's Kappa: {cohen_kappa:.4f}, Log Loss: {logloss:.4f}\")\n",
    "\n",
    "# Model without victim\n",
    "y_pred_wo_victim = calibrated_lr_wo_victim_model.predict(X_lr_wo_victim_test)\n",
    "mcc = matthews_corrcoef(y_lr_wo_victim_test, y_pred_wo_victim)\n",
    "cohen_kappa = cohen_kappa_score(y_lr_wo_victim_test, y_pred_wo_victim)\n",
    "y_pred_proba_wo_victim = calibrated_lr_wo_victim_model.predict_proba(X_lr_wo_victim_test)\n",
    "logloss = log_loss(y_lr_wo_victim_test, y_pred_proba_wo_victim)\n",
    "print(f\"Without Victim - Matthews Correlation Coefficient: {mcc:.4f}, Cohen's Kappa: {cohen_kappa:.4f}, Log Loss: {logloss:.4f}\")\n",
    "\n",
    "# Model without weather or victim\n",
    "y_pred_wo_weathervictim = calibrated_lr_wo_weathervictim_model.predict(X_lr_wo_weathervictim_test)\n",
    "mcc = matthews_corrcoef(y_lr_wo_weathervictim_test, y_pred_wo_weathervictim)\n",
    "cohen_kappa = cohen_kappa_score(y_lr_wo_weathervictim_test, y_pred_wo_weathervictim)\n",
    "y_pred_proba_wo_weathervictim = calibrated_lr_wo_weathervictim_model.predict_proba(X_lr_wo_weathervictim_test)\n",
    "logloss = log_loss(y_lr_wo_weathervictim_test, y_pred_proba_wo_weathervictim)\n",
    "print(f\"Without Weather or Victim - Matthews Correlation Coefficient: {mcc:.4f}, Cohen's Kappa: {cohen_kappa:.4f}, Log Loss: {logloss:.4f}\")"
   ]
  },
  {
   "cell_type": "code",
   "execution_count": null,
   "id": "f02b1861",
   "metadata": {},
   "outputs": [],
   "source": []
  }
 ],
 "metadata": {
  "kernelspec": {
   "display_name": "Python 3 (ipykernel)",
   "language": "python",
   "name": "python3"
  },
  "language_info": {
   "codemirror_mode": {
    "name": "ipython",
    "version": 3
   },
   "file_extension": ".py",
   "mimetype": "text/x-python",
   "name": "python",
   "nbconvert_exporter": "python",
   "pygments_lexer": "ipython3",
   "version": "3.9.17"
  }
 },
 "nbformat": 4,
 "nbformat_minor": 5
}
