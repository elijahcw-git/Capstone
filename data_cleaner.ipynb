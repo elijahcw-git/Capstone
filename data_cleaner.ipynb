{
  "nbformat": 4,
  "nbformat_minor": 0,
  "metadata": {
    "colab": {
      "provenance": [],
      "authorship_tag": "ABX9TyMhY/issstPHrvL8ev7Md/J",
      "include_colab_link": true
    },
    "kernelspec": {
      "name": "python3",
      "display_name": "Python 3"
    },
    "language_info": {
      "name": "python"
    }
  },
  "cells": [
    {
      "cell_type": "markdown",
      "metadata": {
        "id": "view-in-github",
        "colab_type": "text"
      },
      "source": [
        "<a href=\"https://colab.research.google.com/github/elijahcw-git/Capstone/blob/main/data_cleaner.ipynb\" target=\"_parent\"><img src=\"https://colab.research.google.com/assets/colab-badge.svg\" alt=\"Open In Colab\"/></a>"
      ]
    },
    {
      "cell_type": "code",
      "execution_count": 41,
      "metadata": {
        "id": "ag4LxYMKVkmQ"
      },
      "outputs": [],
      "source": [
        "from google.colab import drive\n",
        "import pandas as pd\n",
        "import numpy as np"
      ]
    },
    {
      "cell_type": "code",
      "source": [
        "drive.mount('/content/drive')"
      ],
      "metadata": {
        "colab": {
          "base_uri": "https://localhost:8080/"
        },
        "id": "1vxCoH_5WCZg",
        "outputId": "a4d40fff-b6ee-4116-9de8-d66a204739de"
      },
      "execution_count": 42,
      "outputs": [
        {
          "output_type": "stream",
          "name": "stdout",
          "text": [
            "Drive already mounted at /content/drive; to attempt to forcibly remount, call drive.mount(\"/content/drive\", force_remount=True).\n"
          ]
        }
      ]
    },
    {
      "cell_type": "code",
      "source": [
        "crime_df = pd.read_csv('/content/drive/MyDrive/Colab Notebooks/crime.csv')\n",
        "weather_df = pd.read_csv('/content/drive/MyDrive/Colab Notebooks/weather.csv')"
      ],
      "metadata": {
        "id": "_i0IIT62WDlt"
      },
      "execution_count": 43,
      "outputs": []
    },
    {
      "cell_type": "code",
      "source": [
        "crime_df['DATE_OCC'] = pd.to_datetime(crime_df['DATE_OCC'])\n",
        "weather_df['DATE_OCC'] = pd.to_datetime(weather_df['DATE_OCC'])\n",
        "merged_df = pd.merge(crime_df, weather_df, on='DATE_OCC', how='inner')"
      ],
      "metadata": {
        "id": "hZN5BxajWMGy"
      },
      "execution_count": 44,
      "outputs": []
    },
    {
      "cell_type": "code",
      "source": [
        "# Assuming 'data' is your DataFrame\n",
        "pd.set_option('display.max_rows', 150)\n",
        "\n",
        "# merged_df['Crm_Cd_Desc'].unique()\n"
      ],
      "metadata": {
        "id": "fxIAAB31Pfuy"
      },
      "execution_count": 45,
      "outputs": []
    },
    {
      "cell_type": "code",
      "source": [
        "def categorize_crime(crime):\n",
        "    \"\"\"Map specific crimes to broader categories.\"\"\"\n",
        "    # Assault and Battery\n",
        "    if crime in ['INTIMATE PARTNER - SIMPLE ASSAULT', 'BRANDISH WEAPON', 'BATTERY - SIMPLE ASSAULT',\n",
        "                 'ASSAULT WITH DEADLY WEAPON, AGGRAVATED ASSAULT', 'ASSAULT WITH DEADLY WEAPON ON POLICE OFFICER', 'CHILD ABUSE (PHYSICAL) - AGGRAVATED ASSAULT',\n",
        "                 'CHILD ABUSE (PHYSICAL) - SIMPLE ASSAULT', 'WEAPONS POSSESSION/BOMBING', 'BATTERY POLICE (SIMPLE)',\n",
        "                 'INTIMATE PARTNER - AGGRAVATED ASSAULT', 'THEFT, COIN MACHINE - GRAND ($950.01 & OVER)',\n",
        "                 'LYNCHING', 'SHOTS FIRED AT MOVING VEHICLE, TRAIN OR AIRCRAFT', 'BOAT - ATTEMPTED STOLEN', 'THROWING OBJECT AT MOVING VEHICLE', 'LYNCHING - ATTEMPTED', 'BOMB SCARE', 'CRIMINAL HOMICIDE',\n",
        "                 'CRIMINAL THREATS - NO WEAPON DISPLAYED',  'BOAT - STOLEN', 'PICKPOCKET, ATTEMPT', 'MANSLAUGHTER, NEGLIGENT',\n",
        "                 'OTHER ASSAULT', 'BATTERY ON A FIREFIGHTER', 'BATTERY WITH SEXUAL CONTACT']:\n",
        "        return 'Assault, Battery and Other Violent'\n",
        "    # Theft and Burglary\n",
        "    elif crime in ['THEFT-GRAND ($950.01 & OVER)EXCPT,GUNS,FOWL,LIVESTK,PROD', 'THEFT PLAIN - PETTY ($950 & UNDER)',\n",
        "                   'BURGLARY FROM VEHICLE', 'DOCUMENT WORTHLESS ($200 & UNDER)' 'THEFT FROM MOTOR VEHICLE - PETTY ($950 & UNDER)',\n",
        "                   'THEFT FROM MOTOR VEHICLE - GRAND ($950.01 AND OVER)', 'DRUNK ROLL', 'BUNCO, PETTY THEFT', 'BUNCO, GRAND THEFT', 'BURGLARY', 'SHOPLIFTING - PETTY THEFT ($950 & UNDER)',\n",
        "                   'SHOPLIFTING-GRAND THEFT ($950.01 & OVER)', 'THEFT, COIN MACHINE - ATTEMPT', 'DRUNK ROLL - ATTEMPT', \"VEHICLE - ATTEMPT STOLEN\", \"VEHICLE - STOLEN\", \"BURGLARY FROM VEHICLE, ATTEMPTED\",\n",
        "                    'BIKE - ATTEMPTED STOLEN','GRAND THEFT / AUTO REPAIR', 'VEHICLE, STOLEN - OTHER (MOTORIZED SCOOTERS, BIKES, ETC)', 'PETTY THEFT - AUTO REPAIR', 'TILL TAP - PETTY ($950 & UNDER)', 'THEFT FROM PERSON - ATTEMPT', 'SHOPLIFTING - ATTEMPT',\n",
        "                   'THEFT, COIN MACHINE - PETTY ($950 & UNDER)', 'TILL TAP - ATTEMPT', 'BURGLARY, ATTEMPTED', 'BUNCO, ATTEMPT', 'THEFT PLAIN - ATTEMPT', 'BIKE - STOLEN',\n",
        "                   'THEFT FROM MOTOR VEHICLE - ATTEMPT', 'EMBEZZLEMENT, GRAND THEFT ($950.01 & OVER)',\n",
        "                   'EMBEZZLEMENT, PETTY THEFT ($950 & UNDER)', 'THEFT, PERSON', 'PURSE SNATCHING', 'GRAND THEFT / AUTO REPAIR'\n",
        "                   'PICKPOCKET', 'PURSE SNATCHING - ATTEMPT', 'TILL TAP - GRAND THEFT ($950.01 & OVER)',]:\n",
        "        return 'Theft and Burglary'\n",
        "    # Vandalism and Property Damage\n",
        "    elif crime in ['VANDALISM - FELONY ($400 & OVER, ALL CHURCH VANDALISMS)', 'TELEPHONE PROPERTY - DAMAGE',\n",
        "                   'VANDALISM - MISDEAMEANOR ($399 OR UNDER)', 'ARSON']:\n",
        "        return 'Vandalism and Property Damage'\n",
        "    # Sexual Offenses\n",
        "    elif crime in ['RAPE, ATTEMPTED', 'SEXUAL PENETRATION W/FOREIGN OBJECT', 'PANDERING', 'SODOMY/SEXUAL CONTACT B/W PENIS OF ONE PERS TO ANUS OTH',\n",
        "                   'RAPE, FORCIBLE', 'SEX,UNLAWFUL(INC MUTUAL CONSENT, PENETRATION W/ FRGN OBJ', 'BEASTIALITY, CRIME AGAINST NATURE SEXUAL ASSLT WITH ANIM',\n",
        "                   'LEWD CONDUCT', 'ORAL COPULATION', 'HUMAN TRAFFICKING - COMMERCIAL SEX ACTS',\n",
        "                   'LEWD/LASCIVIOUS ACTS WITH CHILD', 'LETTERS, LEWD  -  TELEPHONE CALLS, LEWD',  'PEEPING TOM','CHILD PORNOGRAPHY',\n",
        "                   'INCEST (SEXUAL ACTS BETWEEN BLOOD RELATIVES)', 'INDECENT EXPOSURE']:\n",
        "        return 'Sexual Offenses'\n",
        "    # Robbery and Extortion\n",
        "    elif crime in ['ROBBERY', 'ATTEMPTED ROBBERY', 'EXTORTION']:\n",
        "        return 'Robbery and Extortion'\n",
        "    # Violations and Restraining Orders\n",
        "    elif crime in ['VIOLATION OF COURT ORDER', 'VIOLATION OF RESTRAINING ORDER', 'UNAUTHORIZED COMPUTER ACCESS', 'ILLEGAL DUMPING',\n",
        "                   'SEX OFFENDER REGISTRANT OUT OF COMPLIANCE', 'VIOLATION OF TEMPORARY RESTRAINING ORDER', 'FIREARMS TEMPORARY RESTRAINING ORDER (TEMP FIREARMS RO)',\n",
        "                   'FIREARMS EMERGENCY PROTECTIVE ORDER (FIREARMS EPO)','TRESPASSING']:\n",
        "        return 'Violations and Restraining Orders'\n",
        "    # Fraud and Financial Crimes\n",
        "    elif crime in ['THEFT OF IDENTITY', 'DOCUMENT FORGERY / STOLEN FELONY', 'BIGAMY', 'COUNTERFEIT',\n",
        "                   'DEFRAUDING INNKEEPER/THEFT OF SERVICES, $950 & UNDER', 'DEFRAUDING INNKEEPER/THEFT OF SERVICES, OVER $950.01',\n",
        "                   'FALSE POLICE REPORT', 'DRIVING WITHOUT OWNER CONSENT (DWOC)', 'BRIBERY', 'CONSPIRACY','GRAND THEFT / INSURANCE FRAUD',\n",
        "                   'CREDIT CARDS, FRAUD USE ($950 & UNDER)', 'CREDIT CARDS, FRAUD USE ($950.01 & OVER)',\n",
        "                   'DISHONEST EMPLOYEE - GRAND THEFT', 'DISHONEST EMPLOYEE - PETTY THEFT']:\n",
        "        return 'Fraud and Financial Crimes'\n",
        "    # Miscellaneous Crimes\n",
        "    else:\n",
        "        return 'Miscellaneous Crimes'\n",
        "\n",
        "# Apply the categorization function to your DataFrame\n",
        "merged_df['Crime_Category'] = merged_df['Crm_Cd_Desc'].apply(categorize_crime)\n",
        "\n",
        "# Display the updated DataFrame to verify the new column\n",
        "print(merged_df[['Crm_Cd_Desc', 'Crime_Category']].head())"
      ],
      "metadata": {
        "colab": {
          "base_uri": "https://localhost:8080/"
        },
        "id": "zATBLAR7S8Bl",
        "outputId": "05b3e243-d841-4910-9f7d-49c970331fa9"
      },
      "execution_count": 46,
      "outputs": [
        {
          "output_type": "stream",
          "name": "stdout",
          "text": [
            "                                         Crm_Cd_Desc  \\\n",
            "0                           VIOLATION OF COURT ORDER   \n",
            "1  VANDALISM - FELONY ($400 & OVER, ALL CHURCH VA...   \n",
            "2                  INTIMATE PARTNER - SIMPLE ASSAULT   \n",
            "3                           BATTERY - SIMPLE ASSAULT   \n",
            "4                          OTHER MISCELLANEOUS CRIME   \n",
            "\n",
            "                       Crime_Category  \n",
            "0   Violations and Restraining Orders  \n",
            "1       Vandalism and Property Damage  \n",
            "2  Assault, Battery and Other Violent  \n",
            "3  Assault, Battery and Other Violent  \n",
            "4                Miscellaneous Crimes  \n"
          ]
        }
      ]
    },
    {
      "cell_type": "code",
      "source": [
        "merged_df['Crime_Category'].unique()"
      ],
      "metadata": {
        "colab": {
          "base_uri": "https://localhost:8080/"
        },
        "id": "TWNTm2-YTM-e",
        "outputId": "ad120a2f-014c-4cf5-fa6a-94dbbe9b1949"
      },
      "execution_count": 47,
      "outputs": [
        {
          "output_type": "execute_result",
          "data": {
            "text/plain": [
              "array(['Violations and Restraining Orders',\n",
              "       'Vandalism and Property Damage',\n",
              "       'Assault, Battery and Other Violent', 'Miscellaneous Crimes',\n",
              "       'Theft and Burglary', 'Robbery and Extortion',\n",
              "       'Fraud and Financial Crimes', 'Sexual Offenses'], dtype=object)"
            ]
          },
          "metadata": {},
          "execution_count": 47
        }
      ]
    },
    {
      "cell_type": "code",
      "source": [
        "merged_df['Crime_Category'] = pd.Categorical(merged_df['Crime_Category'])\n",
        "merged_df['Crime_Category_Code'] = merged_df['Crime_Category'].cat.codes\n",
        "\n",
        "# Optional: Create a mapping of numeric codes to categories for reference\n",
        "category_mapping = dict(enumerate(merged_df['Crime_Category'].cat.categories))\n",
        "\n",
        "# Print the first few rows to verify the new column\n",
        "\n",
        "print(\"Category Mapping:\", category_mapping)"
      ],
      "metadata": {
        "colab": {
          "base_uri": "https://localhost:8080/"
        },
        "id": "4re40MTCTzS9",
        "outputId": "d7d0f649-80d9-4d28-9317-f63656f040a3"
      },
      "execution_count": 50,
      "outputs": [
        {
          "output_type": "stream",
          "name": "stdout",
          "text": [
            "Category Mapping: {0: 'Assault, Battery and Other Violent', 1: 'Fraud and Financial Crimes', 2: 'Miscellaneous Crimes', 3: 'Robbery and Extortion', 4: 'Sexual Offenses', 5: 'Theft and Burglary', 6: 'Vandalism and Property Damage', 7: 'Violations and Restraining Orders'}\n"
          ]
        }
      ]
    },
    {
      "cell_type": "code",
      "source": [
        "# Adjusted mapping to include Hawaiians and Samoans as Pacific Islanders\n",
        "region_mapping = {\n",
        "    'A': 'Asian', 'C': 'Asian', 'D': 'Asian', 'F': 'Asian', 'G': 'Asian',\n",
        "    'J': 'Asian', 'K': 'Asian', 'L': 'Asian', 'V': 'Asian', 'Z': 'Asian',\n",
        "    'B': 'Black',\n",
        "    'H': 'Hispanic/Latin/Mexican',\n",
        "    'I': 'Other',\n",
        "    'P': 'Other', 'U': 'Other', 'S': 'Other',\n",
        "    'W': 'White',\n",
        "    'O': 'Other',\n",
        "    'X': 'Unknown'\n",
        "}\n",
        "\n",
        "# Apply the revised mapping to the DataFrame\n",
        "merged_df['Region_Ethnic_Origin'] = merged_df['Vict_Descent'].map(region_mapping).fillna('Other')\n"
      ],
      "metadata": {
        "id": "gYvchw_AIQn7"
      },
      "execution_count": 51,
      "outputs": []
    },
    {
      "cell_type": "code",
      "source": [
        "merged_df = merged_df[~((merged_df['LAT'] == 0) & (merged_df['LON'] == 0))]\n",
        "merged_df = merged_df[(merged_df['Avg_Windspeed'] <= 80) & (merged_df['Max_Temp'] >= 20) & (merged_df['Vict_Age'] <= 100)]\n",
        "merged_df['Vict_Descent'].fillna('Unknown', inplace=True)\n",
        "merged_df['Total_Precipitation'].fillna(merged_df['Total_Precipitation'].median(), inplace=True)\n",
        "median_age = merged_df[merged_df['Vict_Age'] > 0]['Vict_Age'].median()\n",
        "merged_df['Vict_Age'] = merged_df['Vict_Age'].apply(lambda x: median_age if x < 0 else x)\n",
        "merged_df['Vict_Sex'] = np.where(merged_df['Vict_Sex'].isin(['M', 'F']), merged_df['Vict_Sex'], 'X')\n",
        "merged_df['Weapon_Reported'] = merged_df['Weapon_Used_Cd'].notna().astype(int)"
      ],
      "metadata": {
        "colab": {
          "base_uri": "https://localhost:8080/"
        },
        "id": "-N2xpeOuWMga",
        "outputId": "461e3ced-cfe9-4c53-bc21-b351bac38a5b"
      },
      "execution_count": 52,
      "outputs": [
        {
          "output_type": "stream",
          "name": "stderr",
          "text": [
            "<ipython-input-52-b82a75de10fc>:3: SettingWithCopyWarning: \n",
            "A value is trying to be set on a copy of a slice from a DataFrame\n",
            "\n",
            "See the caveats in the documentation: https://pandas.pydata.org/pandas-docs/stable/user_guide/indexing.html#returning-a-view-versus-a-copy\n",
            "  merged_df['Vict_Descent'].fillna('Unknown', inplace=True)\n"
          ]
        }
      ]
    },
    {
      "cell_type": "code",
      "source": [
        "merged_df.columns"
      ],
      "metadata": {
        "colab": {
          "base_uri": "https://localhost:8080/"
        },
        "id": "cclKVieQBFiT",
        "outputId": "ea3e3c14-af83-4508-eaff-1e4616303d91"
      },
      "execution_count": 53,
      "outputs": [
        {
          "output_type": "execute_result",
          "data": {
            "text/plain": [
              "Index(['DR_NO', 'Date_Rptd', 'DATE_OCC', 'TIME_OCC', 'AREA', 'AREA_NAME',\n",
              "       'Rpt_Dist_No', 'Part_1-2', 'Crm_Cd', 'Crm_Cd_Desc', 'Mocodes',\n",
              "       'Vict_Age', 'Vict_Sex', 'Vict_Descent', 'Premis_Cd', 'Premis_Desc',\n",
              "       'Weapon_Used_Cd', 'Weapon_Desc', 'Status', 'Status_Desc', 'Crm_Cd_1',\n",
              "       'Crm_Cd_2', 'Crm_Cd_3', 'Crm_Cd_4', 'LOCATION', 'Cross_Street', 'LAT',\n",
              "       'LON', 'Max_Temp', 'Avg_Temp', 'Min_Temp', 'Max_Dewpoint',\n",
              "       'Avg_Dewpoint', 'Min_Dewpoint', 'Max_Humidity', 'Avg_Humidity',\n",
              "       'Min_Humidity', 'Max_Windspeed', 'Avg_Windspeed', 'Min_Windspeed',\n",
              "       'Max_Pressure', 'Avg_Pressure', 'Min_Pressure', 'Total_Precipitation',\n",
              "       'Crime_Category', 'Crime_Category_Code', 'Region_Ethnic_Origin',\n",
              "       'Weapon_Reported'],\n",
              "      dtype='object')"
            ]
          },
          "metadata": {},
          "execution_count": 53
        }
      ]
    },
    {
      "cell_type": "code",
      "source": [
        "print(merged_df['Vict_Sex'].unique())\n",
        "print(merged_df['Crm_Cd'].unique())\n",
        "print(merged_df['Vict_Age'].unique())\n",
        "print(merged_df['AREA'].unique())\n",
        "print(merged_df['AREA_NAME'].unique())\n",
        "print(merged_df['Region_Ethnic_Origin'].unique())\n",
        "print(merged_df['Crime_Category_Code'].unique())"
      ],
      "metadata": {
        "colab": {
          "base_uri": "https://localhost:8080/"
        },
        "id": "5vGBL6VIAHNl",
        "outputId": "29a4e19a-bf22-4f47-bc8e-09c0156ad4fd"
      },
      "execution_count": 55,
      "outputs": [
        {
          "output_type": "stream",
          "name": "stdout",
          "text": [
            "['M' 'F' 'X']\n",
            "[900 740 626 624 946 341 930 440 910 753 510 940 210 901 251 330 230 310\n",
            " 420 745 235 237 812 354 813 954 437 956 442 850 649 763 815 331 928 220\n",
            " 623 888 627 761 122 821 343 520 410 943 121 810 480 350 351 110 932 441\n",
            " 421 320 860 652 236 756 806 922 668 660 886 648 845 951 345 439 436 664\n",
            " 662 820 666 950 433 347 933 487 434 755 474 647 443 661 450 670 762 654\n",
            " 622 949 471 231 625 653 920 948 902 353 438 865 805 840 352 451 470 890\n",
            " 444 760 250 651 903 924 944 452 870 822 446 942 435 473 349 113 472 882\n",
            " 880 475 453 485 884 931 814 921 952 830 445 432 926 906 522 905 904 491]\n",
            "[48.  0. 25. 53. 18. 46. 21. 49. 35. 36. 57. 22. 50. 23.  9. 43. 24. 26.\n",
            " 29. 34. 28. 17. 14. 44. 51. 39. 31. 20.  5. 82. 38. 33. 45. 60. 40. 15.\n",
            " 30. 37. 16.  6. 19. 54. 42. 27. 41. 52. 63. 32. 47. 13. 64. 70. 56. 78.\n",
            " 73. 55. 66.  7. 58. 59. 76. 62. 61.  8. 67. 71. 69.  3. 72.  4. 12. 81.\n",
            " 96. 65. 74. 11. 68. 89. 92. 83. 75. 79. 80. 84. 77. 99. 87. 85. 86. 91.\n",
            " 93. 88.  2. 10. 98. 90. 95. 94. 97.]\n",
            "[13  1  2  3  4  5  6  7  8  9 12 10 11 14 15 20 17 21 16 19 18]\n",
            "['Newton' 'Central' 'Rampart' 'Southwest' 'Hollenbeck' 'Harbor'\n",
            " 'Hollywood' 'Wilshire' 'West LA' 'Van Nuys' '77th Street' 'West Valley'\n",
            " 'Northeast' 'Pacific' 'N Hollywood' 'Olympic' 'Devonshire' 'Topanga'\n",
            " 'Foothill' 'Mission' 'Southeast']\n",
            "['Hispanic/Latin/Mexican' 'Other' 'Black' 'White' 'Asian' 'Unknown']\n",
            "[7 6 0 2 5 3 1 4]\n"
          ]
        }
      ]
    },
    {
      "cell_type": "code",
      "source": [
        "merged_df.to_csv('/content/drive/MyDrive/merged_dataset.csv', index=False)"
      ],
      "metadata": {
        "id": "WgNbBGKZWPad"
      },
      "execution_count": 61,
      "outputs": []
    },
    {
      "cell_type": "code",
      "source": [
        "columns_to_drop = ['Max_Temp', 'Min_Temp', 'Max_Dewpoint', 'Min_Dewpoint', 'Max_Humidity', 'Min_Humidity',\n",
        "                   'Max_Windspeed', 'Min_Windspeed', 'Max_Pressure', 'Min_Pressure', 'Weapon_Used_Cd', 'Weapon_Desc',\n",
        "                   'Crm_Cd_1',  'Crm_Cd_2', 'Crm_Cd_3', 'Crm_Cd_4','Mocodes','Cross_Street', 'Premis_Cd', 'Premis_Desc',\n",
        "                   'Status', 'Status_Desc']\n",
        "merged_df.drop(columns=columns_to_drop, inplace=True)"
      ],
      "metadata": {
        "id": "GYRWl6YcWVNW"
      },
      "execution_count": 56,
      "outputs": []
    },
    {
      "cell_type": "code",
      "source": [
        "df = merged_df"
      ],
      "metadata": {
        "id": "au5k2FdlWZfk"
      },
      "execution_count": 57,
      "outputs": []
    },
    {
      "cell_type": "code",
      "source": [
        "print(df['Vict_Sex'].unique())\n",
        "print(df['Region_Ethnic_Origin'].unique())\n",
        "print(df['Crm_Cd'].unique())\n",
        "print(df['Vict_Age'].unique())\n",
        "print(df['AREA'].unique())\n",
        "print(df['AREA_NAME'].unique())\n",
        "print(df['Crime_Category_Code'].unique())"
      ],
      "metadata": {
        "colab": {
          "base_uri": "https://localhost:8080/"
        },
        "id": "Nf-gLlQ3CmV3",
        "outputId": "5f85d958-6777-4a4d-9ae9-0f42f274b8ff"
      },
      "execution_count": 58,
      "outputs": [
        {
          "output_type": "stream",
          "name": "stdout",
          "text": [
            "['M' 'F' 'X']\n",
            "['Hispanic/Latin/Mexican' 'Other' 'Black' 'White' 'Asian' 'Unknown']\n",
            "[900 740 626 624 946 341 930 440 910 753 510 940 210 901 251 330 230 310\n",
            " 420 745 235 237 812 354 813 954 437 956 442 850 649 763 815 331 928 220\n",
            " 623 888 627 761 122 821 343 520 410 943 121 810 480 350 351 110 932 441\n",
            " 421 320 860 652 236 756 806 922 668 660 886 648 845 951 345 439 436 664\n",
            " 662 820 666 950 433 347 933 487 434 755 474 647 443 661 450 670 762 654\n",
            " 622 949 471 231 625 653 920 948 902 353 438 865 805 840 352 451 470 890\n",
            " 444 760 250 651 903 924 944 452 870 822 446 942 435 473 349 113 472 882\n",
            " 880 475 453 485 884 931 814 921 952 830 445 432 926 906 522 905 904 491]\n",
            "[48.  0. 25. 53. 18. 46. 21. 49. 35. 36. 57. 22. 50. 23.  9. 43. 24. 26.\n",
            " 29. 34. 28. 17. 14. 44. 51. 39. 31. 20.  5. 82. 38. 33. 45. 60. 40. 15.\n",
            " 30. 37. 16.  6. 19. 54. 42. 27. 41. 52. 63. 32. 47. 13. 64. 70. 56. 78.\n",
            " 73. 55. 66.  7. 58. 59. 76. 62. 61.  8. 67. 71. 69.  3. 72.  4. 12. 81.\n",
            " 96. 65. 74. 11. 68. 89. 92. 83. 75. 79. 80. 84. 77. 99. 87. 85. 86. 91.\n",
            " 93. 88.  2. 10. 98. 90. 95. 94. 97.]\n",
            "[13  1  2  3  4  5  6  7  8  9 12 10 11 14 15 20 17 21 16 19 18]\n",
            "['Newton' 'Central' 'Rampart' 'Southwest' 'Hollenbeck' 'Harbor'\n",
            " 'Hollywood' 'Wilshire' 'West LA' 'Van Nuys' '77th Street' 'West Valley'\n",
            " 'Northeast' 'Pacific' 'N Hollywood' 'Olympic' 'Devonshire' 'Topanga'\n",
            " 'Foothill' 'Mission' 'Southeast']\n",
            "[7 6 0 2 5 3 1 4]\n"
          ]
        }
      ]
    },
    {
      "cell_type": "code",
      "source": [
        "df['Vict_Sex'].value_counts()"
      ],
      "metadata": {
        "id": "IPWAK4LNFPPQ"
      },
      "execution_count": null,
      "outputs": []
    },
    {
      "cell_type": "code",
      "source": [
        "# df_top_10.to_csv('/content/sample_data/df_top_10.csv', index=False)"
      ],
      "metadata": {
        "id": "EZkdF7-YWbUP"
      },
      "execution_count": null,
      "outputs": []
    },
    {
      "cell_type": "code",
      "source": [
        "df['Region_Ethnic_Origin'].value_counts()"
      ],
      "metadata": {
        "id": "6KeF4ZQKIqdQ"
      },
      "execution_count": null,
      "outputs": []
    },
    {
      "cell_type": "code",
      "source": [
        "df.to_csv('/content/drive/MyDrive/clean_df_1Mar2024.csv', index=False)"
      ],
      "metadata": {
        "id": "QjtHwbKMItU-"
      },
      "execution_count": 60,
      "outputs": []
    },
    {
      "cell_type": "code",
      "source": [
        "df['Crime_Category_Code'].unique()"
      ],
      "metadata": {
        "id": "uXmwJGRqJ7aj"
      },
      "execution_count": null,
      "outputs": []
    },
    {
      "cell_type": "code",
      "source": [],
      "metadata": {
        "id": "sdBwDJ1-muD7"
      },
      "execution_count": null,
      "outputs": []
    }
  ]
}