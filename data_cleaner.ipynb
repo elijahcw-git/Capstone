{
  "nbformat": 4,
  "nbformat_minor": 0,
  "metadata": {
    "colab": {
      "provenance": [],
      "authorship_tag": "ABX9TyMzDWZzky1eacouQJNyaBDp",
      "include_colab_link": true
    },
    "kernelspec": {
      "name": "python3",
      "display_name": "Python 3"
    },
    "language_info": {
      "name": "python"
    }
  },
  "cells": [
    {
      "cell_type": "markdown",
      "metadata": {
        "id": "view-in-github",
        "colab_type": "text"
      },
      "source": [
        "<a href=\"https://colab.research.google.com/github/elijahcw-git/Capstone/blob/main/data_cleaner.ipynb\" target=\"_parent\"><img src=\"https://colab.research.google.com/assets/colab-badge.svg\" alt=\"Open In Colab\"/></a>"
      ]
    },
    {
      "cell_type": "code",
      "execution_count": 1,
      "metadata": {
        "id": "ag4LxYMKVkmQ"
      },
      "outputs": [],
      "source": [
        "from google.colab import drive\n",
        "import pandas as pd\n",
        "import numpy as np"
      ]
    },
    {
      "cell_type": "code",
      "source": [
        "drive.mount('/content/drive')"
      ],
      "metadata": {
        "colab": {
          "base_uri": "https://localhost:8080/"
        },
        "id": "1vxCoH_5WCZg",
        "outputId": "9a87ce32-1ce8-4f22-8011-14436b32c217"
      },
      "execution_count": 2,
      "outputs": [
        {
          "output_type": "stream",
          "name": "stdout",
          "text": [
            "Mounted at /content/drive\n"
          ]
        }
      ]
    },
    {
      "cell_type": "code",
      "source": [
        "crime_df = pd.read_csv('/content/drive/MyDrive/Colab Notebooks/crime.csv')\n",
        "weather_df = pd.read_csv('/content/drive/MyDrive/Colab Notebooks/weather.csv')"
      ],
      "metadata": {
        "id": "_i0IIT62WDlt"
      },
      "execution_count": 3,
      "outputs": []
    },
    {
      "cell_type": "code",
      "source": [
        "crime_df['DATE_OCC'] = pd.to_datetime(crime_df['DATE_OCC'])\n",
        "weather_df['DATE_OCC'] = pd.to_datetime(weather_df['DATE_OCC'])\n",
        "merged_df = pd.merge(crime_df, weather_df, on='DATE_OCC', how='inner')"
      ],
      "metadata": {
        "id": "hZN5BxajWMGy"
      },
      "execution_count": 4,
      "outputs": []
    },
    {
      "cell_type": "code",
      "source": [
        "# Assuming 'data' is your DataFrame\n",
        "pd.set_option('display.max_rows', 150)\n",
        "unique_crime_codes = merged_df[['Crm_Cd', 'Crm_Cd_Desc']].drop_duplicates().reset_index(drop=True)\n",
        "\n",
        "# Print the unique pairs of Crm_Cd and Crm_Cd_Desc\n",
        "print(unique_crime_codes)\n"
      ],
      "metadata": {
        "colab": {
          "base_uri": "https://localhost:8080/"
        },
        "id": "fxIAAB31Pfuy",
        "outputId": "44f0b03e-daa5-43e4-fa0b-2992e1d076d3"
      },
      "execution_count": 10,
      "outputs": [
        {
          "output_type": "stream",
          "name": "stdout",
          "text": [
            "     Crm_Cd                                        Crm_Cd_Desc\n",
            "0       900                           VIOLATION OF COURT ORDER\n",
            "1       740  VANDALISM - FELONY ($400 & OVER, ALL CHURCH VA...\n",
            "2       626                  INTIMATE PARTNER - SIMPLE ASSAULT\n",
            "3       624                           BATTERY - SIMPLE ASSAULT\n",
            "4       946                          OTHER MISCELLANEOUS CRIME\n",
            "5       341  THEFT-GRAND ($950.01 & OVER)EXCPT,GUNS,FOWL,LI...\n",
            "6       930             CRIMINAL THREATS - NO WEAPON DISPLAYED\n",
            "7       440                 THEFT PLAIN - PETTY ($950 & UNDER)\n",
            "8       910                                         KIDNAPPING\n",
            "9       753                     DISCHARGE FIREARMS/SHOTS FIRED\n",
            "10      510                                   VEHICLE - STOLEN\n",
            "11      940                                          EXTORTION\n",
            "12      210                                            ROBBERY\n",
            "13      901                     VIOLATION OF RESTRAINING ORDER\n",
            "14      251                  SHOTS FIRED AT INHABITED DWELLING\n",
            "15      330                              BURGLARY FROM VEHICLE\n",
            "16      230     ASSAULT WITH DEADLY WEAPON, AGGRAVATED ASSAULT\n",
            "17      310                                           BURGLARY\n",
            "18      420    THEFT FROM MOTOR VEHICLE - PETTY ($950 & UNDER)\n",
            "19      745           VANDALISM - MISDEAMEANOR ($399 OR UNDER)\n",
            "20      235        CHILD ABUSE (PHYSICAL) - AGGRAVATED ASSAULT\n",
            "21      237                     CHILD NEGLECT (SEE 300 W.I.C.)\n",
            "22      812  CRM AGNST CHLD (13 OR UNDER) (14-15 & SUSP 10 ...\n",
            "23      354                                  THEFT OF IDENTITY\n",
            "24      813                     CHILD ANNOYING (17YRS & UNDER)\n",
            "25      954                                       CONTRIBUTING\n",
            "26      437                                   RESISTING ARREST\n",
            "27      956            LETTERS, LEWD  -  TELEPHONE CALLS, LEWD\n",
            "28      442           SHOPLIFTING - PETTY THEFT ($950 & UNDER)\n",
            "29      850                                  INDECENT EXPOSURE\n",
            "30      649                   DOCUMENT FORGERY / STOLEN FELONY\n",
            "31      763                                           STALKING\n",
            "32      815                SEXUAL PENETRATION W/FOREIGN OBJECT\n",
            "33      331  THEFT FROM MOTOR VEHICLE - GRAND ($950.01 AND ...\n",
            "34      928                    THREATENING PHONE CALLS/LETTERS\n",
            "35      220                                  ATTEMPTED ROBBERY\n",
            "36      623                            BATTERY POLICE (SIMPLE)\n",
            "37      888                                        TRESPASSING\n",
            "38      627            CHILD ABUSE (PHYSICAL) - SIMPLE ASSAULT\n",
            "39      761                                    BRANDISH WEAPON\n",
            "40      122                                    RAPE, ATTEMPTED\n",
            "41      821  SODOMY/SEXUAL CONTACT B/W PENIS OF ONE PERS TO...\n",
            "42      343           SHOPLIFTING-GRAND THEFT ($950.01 & OVER)\n",
            "43      520                           VEHICLE - ATTEMPT STOLEN\n",
            "44      410                   BURGLARY FROM VEHICLE, ATTEMPTED\n",
            "45      943                                 CRUELTY TO ANIMALS\n",
            "46      121                                     RAPE, FORCIBLE\n",
            "47      810  SEX,UNLAWFUL(INC MUTUAL CONSENT, PENETRATION W...\n",
            "48      480                                      BIKE - STOLEN\n",
            "49      350                                      THEFT, PERSON\n",
            "50      351                                    PURSE SNATCHING\n",
            "51      110                                  CRIMINAL HOMICIDE\n",
            "52      932                                        PEEPING TOM\n",
            "53      441                              THEFT PLAIN - ATTEMPT\n",
            "54      421                 THEFT FROM MOTOR VEHICLE - ATTEMPT\n",
            "55      320                                BURGLARY, ATTEMPTED\n",
            "56      860                        BATTERY WITH SEXUAL CONTACT\n",
            "57      652                  DOCUMENT WORTHLESS ($200 & UNDER)\n",
            "58      236              INTIMATE PARTNER - AGGRAVATED ASSAULT\n",
            "59      756                         WEAPONS POSSESSION/BOMBING\n",
            "60      806                                          PANDERING\n",
            "61      922                                     CHILD STEALING\n",
            "62      668         EMBEZZLEMENT, GRAND THEFT ($950.01 & OVER)\n",
            "63      660                                        COUNTERFEIT\n",
            "64      886                               DISTURBING THE PEACE\n",
            "65      648                                              ARSON\n",
            "66      845          SEX OFFENDER REGISTRANT OUT OF COMPLIANCE\n",
            "67      951  DEFRAUDING INNKEEPER/THEFT OF SERVICES, $950 &...\n",
            "68      345                   DISHONEST EMPLOYEE - GRAND THEFT\n",
            "69      439                                FALSE POLICE REPORT\n",
            "70      436                               LYNCHING - ATTEMPTED\n",
            "71      664                                 BUNCO, PETTY THEFT\n",
            "72      662                                 BUNCO, GRAND THEFT\n",
            "73      820                                    ORAL COPULATION\n",
            "74      666                                     BUNCO, ATTEMPT\n",
            "75      950  DEFRAUDING INNKEEPER/THEFT OF SERVICES, OVER $...\n",
            "76      433               DRIVING WITHOUT OWNER CONSENT (DWOC)\n",
            "77      347                      GRAND THEFT / INSURANCE FRAUD\n",
            "78      933                                            PROWLER\n",
            "79      487                                      BOAT - STOLEN\n",
            "80      434                                 FALSE IMPRISONMENT\n",
            "81      755                                         BOMB SCARE\n",
            "82      474         THEFT, COIN MACHINE - PETTY ($950 & UNDER)\n",
            "83      647                  THROWING OBJECT AT MOVING VEHICLE\n",
            "84      443                              SHOPLIFTING - ATTEMPT\n",
            "85      661                       UNAUTHORIZED COMPUTER ACCESS\n",
            "86      450                        THEFT FROM PERSON - ATTEMPT\n",
            "87      670           EMBEZZLEMENT, PETTY THEFT ($950 & UNDER)\n",
            "88      762                                       LEWD CONDUCT\n",
            "89      654              CREDIT CARDS, FRAUD USE ($950 & UNDER\n",
            "90      622                           BATTERY ON A FIREFIGHTER\n",
            "91      949                                    ILLEGAL DUMPING\n",
            "92      471                    TILL TAP - PETTY ($950 & UNDER)\n",
            "93      231       ASSAULT WITH DEADLY WEAPON ON POLICE OFFICER\n",
            "94      625                                      OTHER ASSAULT\n",
            "95      653           CREDIT CARDS, FRAUD USE ($950.01 & OVER)\n",
            "96      920                         KIDNAPPING - GRAND ATTEMPT\n",
            "97      948                                             BIGAMY\n",
            "98      902           VIOLATION OF TEMPORARY RESTRAINING ORDER\n",
            "99      353                                         DRUNK ROLL\n",
            "100     438                                   RECKLESS DRIVING\n",
            "101     865                                  DRUGS, TO A MINOR\n",
            "102     805                                            PIMPING\n",
            "103     840  BEASTIALITY, CRIME AGAINST NATURE SEXUAL ASSLT...\n",
            "104     352                                         PICKPOCKET\n",
            "105     451                          PURSE SNATCHING - ATTEMPT\n",
            "106     470            TILL TAP - GRAND THEFT ($950.01 & OVER)\n",
            "107     890                                   FAILURE TO YIELD\n",
            "108     444                   DISHONEST EMPLOYEE - PETTY THEFT\n",
            "109     760                    LEWD/LASCIVIOUS ACTS WITH CHILD\n",
            "110     250   SHOTS FIRED AT MOVING VEHICLE, TRAIN OR AIRCRAFT\n",
            "111     651                DOCUMENT WORTHLESS ($200.01 & OVER)\n",
            "112     903                                  CONTEMPT OF COURT\n",
            "113     924                        TELEPHONE PROPERTY - DAMAGE\n",
            "114     944                                         CONSPIRACY\n",
            "115     452                                PICKPOCKET, ATTEMPT\n",
            "116     870                                  CHILD ABANDONMENT\n",
            "117     822            HUMAN TRAFFICKING - COMMERCIAL SEX ACTS\n",
            "118     446                          PETTY THEFT - AUTO REPAIR\n",
            "119     942                                            BRIBERY\n",
            "120     435                                           LYNCHING\n",
            "121     473       THEFT, COIN MACHINE - GRAND ($950.01 & OVER)\n",
            "122     349                          GRAND THEFT / AUTO REPAIR\n",
            "123     113                            MANSLAUGHTER, NEGLIGENT\n",
            "124     472                                 TILL TAP - ATTEMPT\n",
            "125     882                                    INCITING A RIOT\n",
            "126     880                                     DISRUPT SCHOOL\n",
            "127     475                      THEFT, COIN MACHINE - ATTEMPT\n",
            "128     453                               DRUNK ROLL - ATTEMPT\n",
            "129     485                            BIKE - ATTEMPTED STOLEN\n",
            "130     884                                FAILURE TO DISPERSE\n",
            "131     931  REPLICA FIREARMS(SALE,DISPLAY,MANUFACTURE OR D...\n",
            "132     814                                  CHILD PORNOGRAPHY\n",
            "133     921          HUMAN TRAFFICKING - INVOLUNTARY SERVITUDE\n",
            "134     952                                   ABORTION/ILLEGAL\n",
            "135     830       INCEST (SEXUAL ACTS BETWEEN BLOOD RELATIVES)\n",
            "136     445                 DISHONEST EMPLOYEE ATTEMPTED THEFT\n",
            "137     432                     BLOCKING DOOR INDUCTION CENTER\n",
            "138     926                                     TRAIN WRECKING\n",
            "139     906           FIREARMS RESTRAINING ORDER (FIREARMS RO)\n",
            "140     522  VEHICLE, STOLEN - OTHER (MOTORIZED SCOOTERS, B...\n",
            "141     905  FIREARMS TEMPORARY RESTRAINING ORDER (TEMP FIR...\n",
            "142     904  FIREARMS EMERGENCY PROTECTIVE ORDER (FIREARMS ...\n",
            "143     491                            BOAT - ATTEMPTED STOLEN\n"
          ]
        }
      ]
    },
    {
      "cell_type": "code",
      "source": [
        "def categorize_crime(crime):\n",
        "    \"\"\"Map specific crimes to broader categories.\"\"\"\n",
        "    # Assault and Battery\n",
        "    if crime in ['INTIMATE PARTNER - SIMPLE ASSAULT', 'BATTERY - SIMPLE ASSAULT',\n",
        "                 'ASSAULT WITH DEADLY WEAPON, AGGRAVATED ASSAULT', 'CHILD ABUSE (PHYSICAL) - AGGRAVATED ASSAULT',\n",
        "                 'CHILD ABUSE (PHYSICAL) - SIMPLE ASSAULT', 'BATTERY POLICE (SIMPLE)',\n",
        "                 'INTIMATE PARTNER - AGGRAVATED ASSAULT', 'ASSAULT WITH DEADLY WEAPON ON POLICE OFFICER',\n",
        "                 'OTHER ASSAULT', 'BATTERY ON A FIREFIGHTER', 'BATTERY WITH SEXUAL CONTACT']:\n",
        "        return 'Assault and Battery'\n",
        "    # Theft and Burglary\n",
        "    elif crime in ['THEFT-GRAND ($950.01 & OVER)EXCPT,GUNS,FOWL,LIVESTK,PROD', 'THEFT PLAIN - PETTY ($950 & UNDER)',\n",
        "                   'BURGLARY FROM VEHICLE', 'THEFT FROM MOTOR VEHICLE - PETTY ($950 & UNDER)',\n",
        "                   'THEFT FROM MOTOR VEHICLE - GRAND ($950.01 AND OVER)', 'BURGLARY', 'SHOPLIFTING - PETTY THEFT ($950 & UNDER)',\n",
        "                   'SHOPLIFTING-GRAND THEFT ($950.01 & OVER)', 'BURGLARY, ATTEMPTED', 'THEFT PLAIN - ATTEMPT',\n",
        "                   'THEFT FROM MOTOR VEHICLE - ATTEMPT', 'EMBEZZLEMENT, GRAND THEFT ($950.01 & OVER)',\n",
        "                   'EMBEZZLEMENT, PETTY THEFT ($950 & UNDER)', 'THEFT, PERSON', 'PURSE SNATCHING', 'GRAND THEFT / AUTO REPAIR']:\n",
        "        return 'Theft and Burglary'\n",
        "    # Vandalism and Property Damage\n",
        "    elif crime in ['VANDALISM - FELONY ($400 & OVER, ALL CHURCH VANDALISMS)', 'VANDALISM - MISDEAMEANOR ($399 OR UNDER)']:\n",
        "        return 'Vandalism and Property Damage'\n",
        "    # Sexual Offenses\n",
        "    elif crime in ['RAPE, ATTEMPTED', 'SEXUAL PENETRATION W/FOREIGN OBJECT', 'SODOMY/SEXUAL CONTACT B/W PENIS OF ONE PERS TO ANUS OTH',\n",
        "                   'RAPE, FORCIBLE', 'SEX,UNLAWFUL(INC MUTUAL CONSENT, PENETRATION W/ FRGN OBJ', 'ORAL COPULATION',\n",
        "                   'LEWD/LASCIVIOUS ACTS WITH CHILD', 'CHILD PORNOGRAPHY', 'INCEST (SEXUAL ACTS BETWEEN BLOOD RELATIVES)']:\n",
        "        return 'Sexual Offenses'\n",
        "    # Robbery and Extortion\n",
        "    elif crime in ['ROBBERY', 'ATTEMPTED ROBBERY', 'EXTORTION']:\n",
        "        return 'Robbery and Extortion'\n",
        "    # Violations and Restraining Orders\n",
        "    elif crime in ['VIOLATION OF COURT ORDER', 'VIOLATION OF RESTRAINING ORDER', 'VIOLATION OF TEMPORARY RESTRAINING ORDER']:\n",
        "        return 'Violations and Restraining Orders'\n",
        "    # Fraud and Financial Crimes\n",
        "    elif crime in ['THEFT OF IDENTITY', 'DOCUMENT FORGERY / STOLEN FELONY', 'COUNTERFEIT',\n",
        "                   'DEFRAUDING INNKEEPER/THEFT OF SERVICES, $950 & UNDER', 'DEFRAUDING INNKEEPER/THEFT OF SERVICES, OVER $950.01',\n",
        "                   'FALSE POLICE REPORT', 'DRIVING WITHOUT OWNER CONSENT (DWOC)', 'GRAND THEFT / INSURANCE FRAUD',\n",
        "                   'CREDIT CARDS, FRAUD USE ($950 & UNDER)', 'CREDIT CARDS, FRAUD USE ($950.01 & OVER)',\n",
        "                   'DISHONEST EMPLOYEE - GRAND THEFT', 'DISHONEST EMPLOYEE - PETTY THEFT']:\n",
        "        return 'Fraud and Financial Crimes'\n",
        "    # Miscellaneous Crimes\n",
        "    else:\n",
        "        return 'Miscellaneous Crimes'\n",
        "\n",
        "# Apply the categorization function to your DataFrame\n",
        "merged_df['Crime_Category'] = merged_df['Crm_Cd_Desc'].apply(categorize_crime)\n",
        "\n",
        "# Display the updated DataFrame to verify the new column\n",
        "print(merged_df[['Crm_Cd_Desc', 'Crime_Category']].head())"
      ],
      "metadata": {
        "colab": {
          "base_uri": "https://localhost:8080/"
        },
        "id": "zATBLAR7S8Bl",
        "outputId": "24e7d12a-2cec-41b3-ae7a-502cf0121b10"
      },
      "execution_count": 12,
      "outputs": [
        {
          "output_type": "stream",
          "name": "stdout",
          "text": [
            "                                         Crm_Cd_Desc  \\\n",
            "0                           VIOLATION OF COURT ORDER   \n",
            "1  VANDALISM - FELONY ($400 & OVER, ALL CHURCH VA...   \n",
            "2                  INTIMATE PARTNER - SIMPLE ASSAULT   \n",
            "3                           BATTERY - SIMPLE ASSAULT   \n",
            "4                          OTHER MISCELLANEOUS CRIME   \n",
            "\n",
            "                      Crime_Category  \n",
            "0  Violations and Restraining Orders  \n",
            "1      Vandalism and Property Damage  \n",
            "2                Assault and Battery  \n",
            "3                Assault and Battery  \n",
            "4               Miscellaneous Crimes  \n"
          ]
        }
      ]
    },
    {
      "cell_type": "code",
      "source": [
        "merged_df['Crime_Category'].unique()"
      ],
      "metadata": {
        "colab": {
          "base_uri": "https://localhost:8080/"
        },
        "id": "TWNTm2-YTM-e",
        "outputId": "7003d63a-0c60-4a69-b2c5-0a0725005b5a"
      },
      "execution_count": 13,
      "outputs": [
        {
          "output_type": "execute_result",
          "data": {
            "text/plain": [
              "array(['Violations and Restraining Orders',\n",
              "       'Vandalism and Property Damage', 'Assault and Battery',\n",
              "       'Miscellaneous Crimes', 'Theft and Burglary',\n",
              "       'Robbery and Extortion', 'Fraud and Financial Crimes',\n",
              "       'Sexual Offenses'], dtype=object)"
            ]
          },
          "metadata": {},
          "execution_count": 13
        }
      ]
    },
    {
      "cell_type": "code",
      "source": [
        "merged_df['Crime_Category'] = pd.Categorical(merged_df['Crime_Category'])\n",
        "merged_df['Crime_Category_Code'] = merged_df['Crime_Category'].cat.codes\n",
        "\n",
        "# Optional: Create a mapping of numeric codes to categories for reference\n",
        "category_mapping = dict(enumerate(merged_df['Crime_Category'].cat.categories))\n",
        "\n",
        "# Print the first few rows to verify the new column\n",
        "print(merged_df[['Crime_Category', 'Crime_Category_Code']].head())\n",
        "print(\"Category Mapping:\", category_mapping)"
      ],
      "metadata": {
        "colab": {
          "base_uri": "https://localhost:8080/"
        },
        "id": "4re40MTCTzS9",
        "outputId": "118c26f1-58a4-4b6b-eec6-bd98871ffbdc"
      },
      "execution_count": 15,
      "outputs": [
        {
          "output_type": "stream",
          "name": "stdout",
          "text": [
            "                      Crime_Category  Crime_Category_Code\n",
            "0  Violations and Restraining Orders                    7\n",
            "1      Vandalism and Property Damage                    6\n",
            "2                Assault and Battery                    0\n",
            "3                Assault and Battery                    0\n",
            "4               Miscellaneous Crimes                    2\n",
            "Category Mapping: {0: 'Assault and Battery', 1: 'Fraud and Financial Crimes', 2: 'Miscellaneous Crimes', 3: 'Robbery and Extortion', 4: 'Sexual Offenses', 5: 'Theft and Burglary', 6: 'Vandalism and Property Damage', 7: 'Violations and Restraining Orders'}\n"
          ]
        }
      ]
    },
    {
      "cell_type": "code",
      "source": [
        "# Adjusted mapping to include Hawaiians and Samoans as Pacific Islanders\n",
        "region_mapping = {\n",
        "    'A': 'Asian', 'C': 'Asian', 'D': 'Asian', 'F': 'Asian', 'G': 'Asian',\n",
        "    'J': 'Asian', 'K': 'Asian', 'L': 'Asian', 'V': 'Asian', 'Z': 'Asian',\n",
        "    'B': 'Black',\n",
        "    'H': 'Hispanic/Latin/Mexican',\n",
        "    'I': 'Other',\n",
        "    'P': 'Other', 'U': 'Other', 'S': 'Other',\n",
        "    'W': 'White',\n",
        "    'O': 'Other',\n",
        "    'X': 'Unknown'\n",
        "}\n",
        "\n",
        "# Apply the revised mapping to the DataFrame\n",
        "merged_df['Region_Ethnic_Origin'] = merged_df['Vict_Descent'].map(region_mapping).fillna('Other')\n"
      ],
      "metadata": {
        "id": "gYvchw_AIQn7"
      },
      "execution_count": 16,
      "outputs": []
    },
    {
      "cell_type": "code",
      "source": [
        "merged_df = merged_df[~((merged_df['LAT'] == 0) & (merged_df['LON'] == 0))]\n",
        "merged_df = merged_df[(merged_df['Avg_Windspeed'] <= 80) & (merged_df['Max_Temp'] >= 20) & (merged_df['Vict_Age'] <= 100)]\n",
        "merged_df['Vict_Descent'].fillna('Unknown', inplace=True)\n",
        "merged_df['Total_Precipitation'].fillna(merged_df['Total_Precipitation'].median(), inplace=True)\n",
        "median_age = merged_df[merged_df['Vict_Age'] > 0]['Vict_Age'].median()\n",
        "merged_df['Vict_Age'] = merged_df['Vict_Age'].apply(lambda x: median_age if x < 0 else x)\n",
        "merged_df['Vict_Sex'] = np.where(merged_df['Vict_Sex'].isin(['M', 'F']), merged_df['Vict_Sex'], 'X')\n",
        "merged_df['Weapon_Reported'] = merged_df['Weapon_Used_Cd'].notna().astype(int)"
      ],
      "metadata": {
        "colab": {
          "base_uri": "https://localhost:8080/"
        },
        "id": "-N2xpeOuWMga",
        "outputId": "9ed4986f-fdb7-4c16-84e5-885d13386c99"
      },
      "execution_count": 17,
      "outputs": [
        {
          "output_type": "stream",
          "name": "stderr",
          "text": [
            "<ipython-input-17-b82a75de10fc>:3: SettingWithCopyWarning: \n",
            "A value is trying to be set on a copy of a slice from a DataFrame\n",
            "\n",
            "See the caveats in the documentation: https://pandas.pydata.org/pandas-docs/stable/user_guide/indexing.html#returning-a-view-versus-a-copy\n",
            "  merged_df['Vict_Descent'].fillna('Unknown', inplace=True)\n"
          ]
        }
      ]
    },
    {
      "cell_type": "code",
      "source": [
        "merged_df.columns"
      ],
      "metadata": {
        "colab": {
          "base_uri": "https://localhost:8080/"
        },
        "id": "cclKVieQBFiT",
        "outputId": "c156a48e-c65d-49fc-f6ec-6ee87d28b0e4"
      },
      "execution_count": 18,
      "outputs": [
        {
          "output_type": "execute_result",
          "data": {
            "text/plain": [
              "Index(['DR_NO', 'Date_Rptd', 'DATE_OCC', 'TIME_OCC', 'AREA', 'AREA_NAME',\n",
              "       'Rpt_Dist_No', 'Part_1-2', 'Crm_Cd', 'Crm_Cd_Desc', 'Mocodes',\n",
              "       'Vict_Age', 'Vict_Sex', 'Vict_Descent', 'Premis_Cd', 'Premis_Desc',\n",
              "       'Weapon_Used_Cd', 'Weapon_Desc', 'Status', 'Status_Desc', 'Crm_Cd_1',\n",
              "       'Crm_Cd_2', 'Crm_Cd_3', 'Crm_Cd_4', 'LOCATION', 'Cross_Street', 'LAT',\n",
              "       'LON', 'Max_Temp', 'Avg_Temp', 'Min_Temp', 'Max_Dewpoint',\n",
              "       'Avg_Dewpoint', 'Min_Dewpoint', 'Max_Humidity', 'Avg_Humidity',\n",
              "       'Min_Humidity', 'Max_Windspeed', 'Avg_Windspeed', 'Min_Windspeed',\n",
              "       'Max_Pressure', 'Avg_Pressure', 'Min_Pressure', 'Total_Precipitation',\n",
              "       'Crime_Category', 'Crime_Category_Code', 'Region_Ethnic_Origin',\n",
              "       'Weapon_Reported'],\n",
              "      dtype='object')"
            ]
          },
          "metadata": {},
          "execution_count": 18
        }
      ]
    },
    {
      "cell_type": "code",
      "source": [
        "print(merged_df['Vict_Sex'].unique())\n",
        "print(merged_df['Vict_Descent'].unique())\n",
        "print(merged_df['Crm_Cd'].unique())\n",
        "print(merged_df['Vict_Age'].unique())\n",
        "print(merged_df['AREA'].unique())\n",
        "print(merged_df['AREA_NAME'].unique())\n",
        "print(merged_df['Region_Ethnic_Origin'].unique())"
      ],
      "metadata": {
        "colab": {
          "base_uri": "https://localhost:8080/"
        },
        "id": "5vGBL6VIAHNl",
        "outputId": "5f26deee-9dd6-4c88-dd5b-ef481849c0de"
      },
      "execution_count": 8,
      "outputs": [
        {
          "output_type": "stream",
          "name": "stdout",
          "text": [
            "['M' 'F' 'X']\n",
            "['H' 'O' 'B' 'W' 'Unknown' 'A' 'I' 'X' 'F' 'K' 'P' 'V' 'J' 'C' 'U' 'D' 'S'\n",
            " 'Z' 'G' 'L' '-']\n",
            "[900 740 626 624 946 341 930 440 910 753 510 940 210 901 251 330 230 310\n",
            " 420 745 235 237 812 354 813 954 437 956 442 850 649 763 815 331 928 220\n",
            " 623 888 627 761 122 821 343 520 410 943 121 810 480 350 351 110 932 441\n",
            " 421 320 860 652 236 756 806 922 668 660 886 648 845 951 345 439 436 664\n",
            " 662 820 666 950 433 347 933 487 434 755 474 647 443 661 450 670 762 654\n",
            " 622 949 471 231 625 653 920 948 902 353 438 865 805 840 352 451 470 890\n",
            " 444 760 250 651 903 924 944 452 870 822 446 942 435 473 349 113 472 882\n",
            " 880 475 453 485 884 931 814 921 952 830 445 432 926 906 522 905 904 491]\n",
            "[48.  0. 25. 53. 18. 46. 21. 49. 35. 36. 57. 22. 50. 23.  9. 43. 24. 26.\n",
            " 29. 34. 28. 17. 14. 44. 51. 39. 31. 20.  5. 82. 38. 33. 45. 60. 40. 15.\n",
            " 30. 37. 16.  6. 19. 54. 42. 27. 41. 52. 63. 32. 47. 13. 64. 70. 56. 78.\n",
            " 73. 55. 66.  7. 58. 59. 76. 62. 61.  8. 67. 71. 69.  3. 72.  4. 12. 81.\n",
            " 96. 65. 74. 11. 68. 89. 92. 83. 75. 79. 80. 84. 77. 99. 87. 85. 86. 91.\n",
            " 93. 88.  2. 10. 98. 90. 95. 94. 97.]\n",
            "[13  1  2  3  4  5  6  7  8  9 12 10 11 14 15 20 17 21 16 19 18]\n",
            "['Newton' 'Central' 'Rampart' 'Southwest' 'Hollenbeck' 'Harbor'\n",
            " 'Hollywood' 'Wilshire' 'West LA' 'Van Nuys' '77th Street' 'West Valley'\n",
            " 'Northeast' 'Pacific' 'N Hollywood' 'Olympic' 'Devonshire' 'Topanga'\n",
            " 'Foothill' 'Mission' 'Southeast']\n",
            "['Hispanic/Latin/Mexican' 'Other' 'Black' 'White' 'Asian' 'Unknown']\n"
          ]
        }
      ]
    },
    {
      "cell_type": "code",
      "source": [
        "# merged_df.to_csv('/content/sample_data/merged_dataset.csv', index=False)"
      ],
      "metadata": {
        "id": "WgNbBGKZWPad"
      },
      "execution_count": null,
      "outputs": []
    },
    {
      "cell_type": "code",
      "source": [
        "columns_to_drop = ['Max_Temp', 'Min_Temp', 'Max_Dewpoint', 'Min_Dewpoint', 'Max_Humidity', 'Min_Humidity',\n",
        "                   'Max_Windspeed', 'Min_Windspeed', 'Max_Pressure', 'Min_Pressure', 'Weapon_Used_Cd', 'Weapon_Desc',\n",
        "                   'Crm_Cd_1',  'Crm_Cd_2', 'Crm_Cd_3', 'Crm_Cd_4','Mocodes','Cross_Street', 'Premis_Cd', 'Premis_Desc',\n",
        "                   'Status', 'Status_Desc']\n",
        "merged_df.drop(columns=columns_to_drop, inplace=True)"
      ],
      "metadata": {
        "id": "GYRWl6YcWVNW"
      },
      "execution_count": 19,
      "outputs": []
    },
    {
      "cell_type": "code",
      "source": [
        "df = merged_df['Crm_Cd'].value_counts().nlargest(10).index\n",
        "df = merged_df[merged_df['Crm_Cd'].isin(df)]"
      ],
      "metadata": {
        "id": "au5k2FdlWZfk"
      },
      "execution_count": 20,
      "outputs": []
    },
    {
      "cell_type": "code",
      "source": [
        "print(df['Vict_Sex'].unique())\n",
        "print(df['Region_Ethnic_Origin'].unique())\n",
        "print(df['Crm_Cd'].unique())\n",
        "print(df['Vict_Age'].unique())\n",
        "print(df['AREA'].unique())\n",
        "print(df['AREA_NAME'].unique())"
      ],
      "metadata": {
        "colab": {
          "base_uri": "https://localhost:8080/"
        },
        "id": "Nf-gLlQ3CmV3",
        "outputId": "97928f24-eefc-479a-f744-30fe049490be"
      },
      "execution_count": 21,
      "outputs": [
        {
          "output_type": "stream",
          "name": "stdout",
          "text": [
            "['M' 'F' 'X']\n",
            "['Other' 'Hispanic/Latin/Mexican' 'Black' 'White' 'Asian' 'Unknown']\n",
            "[740 626 624 440 510 330 230 310 420 354]\n",
            "[ 0. 25. 53. 49. 35. 57. 18. 21. 26. 34. 14. 44. 51. 39. 31. 20. 48. 46.\n",
            " 28. 38. 23. 33. 45. 60. 40. 30. 50. 22. 37. 29. 16. 24. 19. 54. 42. 27.\n",
            " 17. 41. 52. 63. 43. 13. 36. 64. 70. 47. 56. 32. 73. 55. 66. 58. 59. 76.\n",
            " 62. 67. 71. 69. 61. 15. 68. 78. 65. 92. 83.  9. 75. 79. 72. 81.  4. 87.\n",
            "  6. 85.  3. 82. 74.  7.  8. 84. 12. 77.  2. 80. 96. 88. 11. 86. 90.  5.\n",
            " 99. 91. 10. 95. 93. 89. 98. 94. 97.]\n",
            "[ 1  2  3  4  5  6  7  8 12  9 11 10 13 15 14 20 17 21 16 19 18]\n",
            "['Central' 'Rampart' 'Southwest' 'Hollenbeck' 'Harbor' 'Hollywood'\n",
            " 'Wilshire' 'West LA' '77th Street' 'Van Nuys' 'Northeast' 'West Valley'\n",
            " 'Newton' 'N Hollywood' 'Pacific' 'Olympic' 'Devonshire' 'Topanga'\n",
            " 'Foothill' 'Mission' 'Southeast']\n"
          ]
        }
      ]
    },
    {
      "cell_type": "code",
      "source": [
        "df['Vict_Sex'].value_counts()"
      ],
      "metadata": {
        "colab": {
          "base_uri": "https://localhost:8080/"
        },
        "id": "IPWAK4LNFPPQ",
        "outputId": "d58d510a-ef12-48e8-d76c-d496c9217d9e"
      },
      "execution_count": 22,
      "outputs": [
        {
          "output_type": "execute_result",
          "data": {
            "text/plain": [
              "M    775974\n",
              "F    716259\n",
              "X    325649\n",
              "Name: Vict_Sex, dtype: int64"
            ]
          },
          "metadata": {},
          "execution_count": 22
        }
      ]
    },
    {
      "cell_type": "code",
      "source": [
        "# df_top_10.to_csv('/content/sample_data/df_top_10.csv', index=False)"
      ],
      "metadata": {
        "id": "EZkdF7-YWbUP"
      },
      "execution_count": null,
      "outputs": []
    },
    {
      "cell_type": "code",
      "source": [
        "df['Region_Ethnic_Origin'].value_counts()"
      ],
      "metadata": {
        "colab": {
          "base_uri": "https://localhost:8080/"
        },
        "id": "6KeF4ZQKIqdQ",
        "outputId": "0e201491-4a73-4b43-8787-8f882b4b49cc"
      },
      "execution_count": 23,
      "outputs": [
        {
          "output_type": "execute_result",
          "data": {
            "text/plain": [
              "Hispanic/Latin/Mexican    570249\n",
              "Other                     442086\n",
              "White                     413188\n",
              "Black                     277243\n",
              "Asian                      60637\n",
              "Unknown                    54479\n",
              "Name: Region_Ethnic_Origin, dtype: int64"
            ]
          },
          "metadata": {},
          "execution_count": 23
        }
      ]
    },
    {
      "cell_type": "code",
      "source": [
        "df.to_csv('/content/sample_data/df_10_29Feb_4.csv', index=False)"
      ],
      "metadata": {
        "id": "QjtHwbKMItU-"
      },
      "execution_count": 24,
      "outputs": []
    },
    {
      "cell_type": "code",
      "source": [],
      "metadata": {
        "id": "uXmwJGRqJ7aj"
      },
      "execution_count": null,
      "outputs": []
    }
  ]
}